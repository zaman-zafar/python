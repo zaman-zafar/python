{
 "cells": [
  {
   "cell_type": "code",
   "execution_count": 1,
   "metadata": {},
   "outputs": [],
   "source": [
    "import pyopencl as cl\n",
    "import numpy as np"
   ]
  },
  {
   "cell_type": "code",
   "execution_count": 32,
   "metadata": {},
   "outputs": [],
   "source": [
    "def kernel_funtion(queue, kernel_program, global_size, input_tuple, output_tuple, local_size = (32,)):\n",
    "    for (array, buffer) in input_tuple:\n",
    "        cl.enqueue_copy(queue, src = array, dest = buffer)\n",
    "    \n",
    "    argument = [buffer for (_,buffer) in input_tuple]\n",
    "    argument = argument + [buffer for (_,buffer) in output_tuple]\n",
    "    \n",
    "    kernel_program(queue, global_size, local_size, *argument)\n",
    "    \n",
    "    for (arr, buffer) in output_tuple:\n",
    "        cl.enqueue_copy(queue, src = buffer , dest = arr)\n",
    "    \n",
    "    queue.finish()"
   ]
  },
  {
   "cell_type": "code",
   "execution_count": 40,
   "metadata": {},
   "outputs": [],
   "source": [
    "platform = [device for device  in cl.get_platforms()\n",
    "           if device.name == \"AMD Accelerated Parallel Processing\"][0]\n",
    "\n",
    "gpu = platform.get_devices()\n",
    "context = cl.Context(devices = gpu)\n"
   ]
  },
  {
   "cell_type": "code",
   "execution_count": 41,
   "metadata": {},
   "outputs": [],
   "source": [
    "program = \"\"\"void kernel sum (global float *a, global float *b, global float *c){int gid = get_global_id(0);\n",
    "c[gid] = a[gid] + b[gid];}\"\"\""
   ]
  },
  {
   "cell_type": "code",
   "execution_count": 48,
   "metadata": {},
   "outputs": [],
   "source": [
    "kernel = cl.Program(context, program)\n",
    "\n",
    "kernel_program = kernel.build()"
   ]
  },
  {
   "cell_type": "code",
   "execution_count": 49,
   "metadata": {},
   "outputs": [],
   "source": [
    "N = int(2**10)\n",
    "a = np.random.rand(N).astype(np.float32)\n",
    "b = np.random.rand(N).astype(np.float32)\n",
    "c = np.empty_like(a)\n",
    "\n",
    "a_buffer = cl.Buffer(context, flags = cl.mem_flags.READ_ONLY, size = a.nbytes)\n",
    "b_buffer = cl.Buffer(context, flags = cl.mem_flags.READ_ONLY, size = b.nbytes)\n",
    "c_buffer = cl.Buffer(context, flags = cl.mem_flags.WRITE_ONLY, size = c.nbytes)\n",
    "\n",
    "input_tuple = ((a, a_buffer), (b,b_buffer),)\n",
    "output_tuple = ((c,c_buffer),)\n",
    "\n",
    "queue = cl.CommandQueue(context)"
   ]
  },
  {
   "cell_type": "code",
   "execution_count": 50,
   "metadata": {},
   "outputs": [
    {
     "name": "stdout",
     "output_type": "stream",
     "text": [
      "487 µs ± 6.34 µs per loop (mean ± std. dev. of 7 runs, 1000 loops each)\n"
     ]
    }
   ],
   "source": [
    "%timeit kernel_funtion(queue, kernel_program.sum, (N,), input_tuple, output_tuple)"
   ]
  },
  {
   "cell_type": "code",
   "execution_count": 51,
   "metadata": {},
   "outputs": [],
   "source": [
    "def sumcheck(a,b,c):\n",
    "    c_check = a + b\n",
    "    if np.abs(c-c_check > 0.0).any():\n",
    "        print(\"results not match\")\n",
    "    else:\n",
    "        print(\"results match\")\n",
    "    "
   ]
  },
  {
   "cell_type": "code",
   "execution_count": 52,
   "metadata": {},
   "outputs": [
    {
     "name": "stdout",
     "output_type": "stream",
     "text": [
      "results match\n"
     ]
    }
   ],
   "source": [
    "sumcheck(a,b,c)"
   ]
  },
  {
   "cell_type": "code",
   "execution_count": null,
   "metadata": {},
   "outputs": [],
   "source": []
  }
 ],
 "metadata": {
  "kernelspec": {
   "display_name": "Python 3",
   "language": "python",
   "name": "python3"
  },
  "language_info": {
   "codemirror_mode": {
    "name": "ipython",
    "version": 3
   },
   "file_extension": ".py",
   "mimetype": "text/x-python",
   "name": "python",
   "nbconvert_exporter": "python",
   "pygments_lexer": "ipython3",
   "version": "3.7.7"
  }
 },
 "nbformat": 4,
 "nbformat_minor": 4
}
