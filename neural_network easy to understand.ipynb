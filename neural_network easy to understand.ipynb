{
 "cells": [
  {
   "cell_type": "code",
   "execution_count": 1,
   "metadata": {},
   "outputs": [],
   "source": [
    "import numpy as np \n",
    "import seaborn as sb\n",
    "from sklearn.datasets import make_moons \n",
    "import pandas as pd\n",
    "import matplotlib.pyplot as plt\n",
    "import os\n",
    "from beeprint import pp"
   ]
  },
  {
   "cell_type": "code",
   "execution_count": 2,
   "metadata": {},
   "outputs": [],
   "source": [
    "a= make_moons(n_samples= 5 , noise= 0.2 , random_state=100)"
   ]
  },
  {
   "cell_type": "code",
   "execution_count": 3,
   "metadata": {},
   "outputs": [
    {
     "name": "stdout",
     "output_type": "stream",
     "text": [
      "(5,) (5,) (5, 2)\n"
     ]
    }
   ],
   "source": [
    "x = np.array(a[0])\n",
    "y = np.array(a[1])\n",
    "x_ = x[:,0]\n",
    "print(x_.shape , y.shape , x.shape)"
   ]
  },
  {
   "cell_type": "code",
   "execution_count": 4,
   "metadata": {},
   "outputs": [
    {
     "data": {
      "text/plain": [
       "(5,)"
      ]
     },
     "execution_count": 4,
     "metadata": {},
     "output_type": "execute_result"
    }
   ],
   "source": [
    "x1 = x[:,1]\n",
    "x1.shape"
   ]
  },
  {
   "cell_type": "code",
   "execution_count": 5,
   "metadata": {},
   "outputs": [
    {
     "data": {
      "image/png": "[encoded data removed]",
      "text/plain": [
       "<Figure size 432x288 with 1 Axes>"
      ]
     },
     "metadata": {
      "needs_background": "light"
     },
     "output_type": "display_data"
    }
   ],
   "source": [
    "c = sb.scatterplot(x = x_ , y = x1 , hue = x1)"
   ]
  },
  {
   "cell_type": "markdown",
   "metadata": {},
   "source": [
    "# Splitting Data into Test and Train"
   ]
  },
  {
   "cell_type": "code",
   "execution_count": 6,
   "metadata": {},
   "outputs": [],
   "source": [
    "split = 0.9\n",
    "xrownumber = x.shape[0]\n",
    "yrownumber = y.shape[0]\n",
    "xdatum = int(split * xrownumber)\n",
    "ydatum = int(split * yrownumber)"
   ]
  },
  {
   "cell_type": "code",
   "execution_count": 7,
   "metadata": {},
   "outputs": [
    {
     "data": {
      "text/plain": [
       "(1, 2)"
      ]
     },
     "execution_count": 7,
     "metadata": {},
     "output_type": "execute_result"
    }
   ],
   "source": [
    "x_train = x[0:xdatum , :]\n",
    "x_test = x[xdatum: , :]\n",
    "x_test.shape"
   ]
  },
  {
   "cell_type": "code",
   "execution_count": 8,
   "metadata": {},
   "outputs": [
    {
     "data": {
      "text/plain": [
       "(1,)"
      ]
     },
     "execution_count": 8,
     "metadata": {},
     "output_type": "execute_result"
    }
   ],
   "source": [
    "y_train = y[0:ydatum]\n",
    "y_test = y[ydatum:, ]\n",
    "y_test.shape"
   ]
  },
  {
   "cell_type": "markdown",
   "metadata": {},
   "source": [
    "# Structure of Neural Net"
   ]
  },
  {
   "cell_type": "code",
   "execution_count": 9,
   "metadata": {},
   "outputs": [],
   "source": [
    "neuralnet = [\n",
    "    {\"input_layer\" : 2 , \"output_layer\" : 5 , \"activation\" : \"relu\"} ,\n",
    " #   {\"input_layer\" : 25 , \"output_layer\" : 50 , \"activation\" : \"relu\"} ,\n",
    " #   {\"input_layer\" : 50 , \"output_layer\" : 50 , \"activation\" : \"relu\"} ,\n",
    " #   {\"input_layer\" : 50 , \"output_layer\" : 25 , \"activation\" : \"relu\"} ,\n",
    "    {\"input_layer\" : 5 , \"output_layer\" : 1 , \"activation\" : \"sigmoid\"} ,\n",
    "]   "
   ]
  },
  {
   "cell_type": "code",
   "execution_count": 10,
   "metadata": {},
   "outputs": [],
   "source": [
    "def first_layer(neuralnet , seed = 42):\n",
    "    np.random.seed(seed)\n",
    "    weights_baise = {}\n",
    "    \n",
    "    for idx , layer in enumerate(neuralnet):\n",
    "        layer_idx = idx + 1\n",
    "        input_size = layer[\"input_layer\"]\n",
    "        output_size = layer[\"output_layer\"]\n",
    "        weights_baise[\"W\" + str(layer_idx)] = np.random.randn(output_size , input_size) * 0.1\n",
    "        weights_baise[\"b\" + str(layer_idx)] = np.random.randn(output_size , 1) * 0.1\n",
    "    \n",
    "    return weights_baise\n"
   ]
  },
  {
   "cell_type": "code",
   "execution_count": 11,
   "metadata": {},
   "outputs": [
    {
     "name": "stdout",
     "output_type": "stream",
     "text": [
      "{\n",
      "  'W1': array([[ 0.04967142, -0.01382643],\n",
      "       [ 0.06476885,  0.15230299],\n",
      "       [-0.02341534, -0.0234137 ],\n",
      "       [ 0.15792128,  0.07674347],\n",
      "       [-0.04694744,  0.054256  ]])\n",
      "  'W2': array([[-0.05622875, -0.10128311,  0.03142473, -0.09080241, -0.14123037]])\n",
      "  'b1': array([[-0.04634177],\n",
      "       [-0.04657298],\n",
      "       [ 0.02419623],\n",
      "       [-0.19132802],\n",
      "       [-0.17249178]])\n",
      "  'b2': array([[0.14656488]])\n",
      "}\n"
     ]
    }
   ],
   "source": [
    "pp(first_layer(neuralnet, 42))"
   ]
  },
  {
   "cell_type": "markdown",
   "metadata": {},
   "source": [
    "# Activation Function"
   ]
  },
  {
   "cell_type": "code",
   "execution_count": 12,
   "metadata": {},
   "outputs": [],
   "source": [
    "def sigmoid (Z):\n",
    "    return 1 / ( 1 + np.exp( - Z))\n",
    "\n",
    "def sigmoid_backprop(dA , Z):\n",
    "    sig = sigmoid(Z)\n",
    "    return dA * sig * (1 - sig)\n",
    "\n",
    "def relu(Z):\n",
    "    return np.maximum(0 , Z)\n",
    "\n",
    "def relu_backprop(dA , Z):\n",
    "    dZ = np.array(dA , copy = True)\n",
    "    dZ[Z <= 0] = 0;\n",
    "    return dZ;"
   ]
  },
  {
   "cell_type": "code",
   "execution_count": 13,
   "metadata": {},
   "outputs": [],
   "source": [
    "def single_forward_layer(A_prev , W_curr , b_curr , activation = \"relu\"):\n",
    "    Z_curr = np.dot(W_curr , A_prev ) + b_curr\n",
    "    \n",
    "    if activation is \"relu\":\n",
    "        activation_func = relu\n",
    "    elif activation is \"sigmoid\":\n",
    "        activation_func = sigmoid\n",
    "    else:\n",
    "        raise Exception(\"activation function not defined\")\n",
    "    \n",
    "    return activation_func(Z_curr) , Z_curr"
   ]
  },
  {
   "cell_type": "markdown",
   "metadata": {},
   "source": [
    "# Forward Propagation"
   ]
  },
  {
   "cell_type": "code",
   "execution_count": 14,
   "metadata": {},
   "outputs": [],
   "source": [
    "def full_forward_layer(neuralnet , weights_baise , x):\n",
    "    memory = {}\n",
    "    A_curr = x\n",
    "    data = []\n",
    "    for idx , layer in enumerate(neuralnet):\n",
    "        layer_idx = idx + 1\n",
    "        A_prev = A_curr\n",
    "        activation_func = layer[\"activation\"]\n",
    "        W_curr =  weights_baise[\"W\" + str(layer_idx)] \n",
    "        b_curr =  weights_baise[\"b\" + str(layer_idx)]\n",
    "        A_curr , Z_curr = single_forward_layer(A_prev , W_curr , b_curr , activation_func)\n",
    "        \n",
    "        memory[\"A\" + str(idx)] = A_prev\n",
    "        memory[\"Z\" + str(layer_idx)] = Z_curr\n",
    "        data.append([{\"index\" : idx ,\"A_prev\" : A_prev , \"W_curr\" : W_curr ,\"b_curr\" : b_curr , \"Z_curr\" : Z_curr , \"A_curr\" : A_curr}])\n",
    "    \n",
    "    return memory , A_curr , data"
   ]
  },
  {
   "cell_type": "code",
   "execution_count": 15,
   "metadata": {},
   "outputs": [],
   "source": [
    "weights_baise_ = first_layer(neuralnet , 42)"
   ]
  },
  {
   "cell_type": "code",
   "execution_count": 16,
   "metadata": {},
   "outputs": [
    {
     "name": "stdout",
     "output_type": "stream",
     "text": [
      "[\n",
      "  [\n",
      "    {\n",
      "      'A_curr': array([[0.        , 0.        , 0.0076552 , 0.04033433],\n",
      "       [0.        , 0.        , 0.        , 0.16643839],\n",
      "       [0.04060802, 0.01646431, 0.01218105, 0.        ],\n",
      "       [0.        , 0.        , 0.        , 0.15509902],\n",
      "       [0.        , 0.        , 0.        , 0.        ]])\n",
      "      'A_prev': array([[-0.80373584,  0.04423593,  0.96210083,  1.9083946 ],\n",
      "       [ 0.10284377,  0.28599133, -0.44899971,  0.5870327 ]])\n",
      "      'W_curr': array([[ 0.04967142, -0.01382643],\n",
      "       [ 0.06476885,  0.15230299],\n",
      "       [-0.02341534, -0.0234137 ],\n",
      "       [ 0.15792128,  0.07674347],\n",
      "       [-0.04694744,  0.054256  ]])\n",
      "      'Z_curr': array([[-8.76864283e-02, -4.80987470e-02,  7.65520393e-03,\n",
      "         4.03343250e-02],\n",
      "       [-8.29666117e-02, -1.50530606e-04, -5.26428037e-02,\n",
      "         1.66438388e-01],\n",
      "       [ 4.06080205e-02,  1.64643138e-02,  1.21810541e-02,\n",
      "        -3.42340814e-02],\n",
      "       [-3.10362431e-01, -1.62394261e-01, -7.38496250e-02,\n",
      "         1.55099025e-01],\n",
      "       [-1.29178552e-01, -1.59051800e-01, -2.42020883e-01,\n",
      "        -2.30235973e-01]])\n",
      "      'b_curr': array([[-0.04634177],\n",
      "       [-0.04657298],\n",
      "       [ 0.02419623],\n",
      "       [-0.19132802],\n",
      "       [-0.17249178]])\n",
      "      'index': 0,\n",
      "    },\n",
      "  ],\n",
      "  [\n",
      "    {\n",
      "      'A_curr': array([[0.53689307, 0.53670442, 0.53656392, 0.52830873]])\n",
      "      'A_prev': array([[0.        , 0.        , 0.0076552 , 0.04033433],\n",
      "       [0.        , 0.        , 0.        , 0.16643839],\n",
      "       [0.04060802, 0.01646431, 0.01218105, 0.        ],\n",
      "       [0.        , 0.        , 0.        , 0.15509902],\n",
      "       [0.        , 0.        , 0.        , 0.        ]])\n",
      "      'W_curr': array([[-0.05622875, -0.10128311,  0.03142473, -0.09080241, -0.14123037]])\n",
      "      'Z_curr': array([[0.14784097, 0.14708226, 0.14651722, 0.11335617]])\n",
      "      'b_curr': array([[0.14656488]])\n",
      "      'index': 1,\n",
      "    },\n",
      "  ],\n",
      "]\n"
     ]
    }
   ],
   "source": [
    " _ , _ , data = full_forward_layer(neuralnet , weights_baise_ , x_train.T)\n",
    "pp(data)"
   ]
  },
  {
   "cell_type": "code",
   "execution_count": null,
   "metadata": {},
   "outputs": [],
   "source": []
  },
  {
   "cell_type": "code",
   "execution_count": 17,
   "metadata": {},
   "outputs": [],
   "source": [
    "memory , y_hat_train , _ =   full_forward_layer(neuralnet , weights_baise_ , x_train.T)"
   ]
  },
  {
   "cell_type": "markdown",
   "metadata": {},
   "source": [
    "# Loss Function"
   ]
  },
  {
   "cell_type": "code",
   "execution_count": 18,
   "metadata": {},
   "outputs": [],
   "source": [
    "def cost_value(y , y_hat):\n",
    "    m = y_hat.shape[1]\n",
    "    cost = - 1 / m * (np.dot(y , np.log(y_hat).T) + np.dot(1 - y , np.log(1 - y_hat).T))\n",
    "    return np.squeeze(cost)\n",
    "\n",
    "def probtoclass(prob):\n",
    "    prob_ = np.copy(prob)\n",
    "    prob_[prob_ > 0.5] = 1\n",
    "    prob_[prob_ <= 0.5] = 0\n",
    "    return prob_\n",
    "\n",
    "def accuracy_value(y , y_hat):\n",
    "    y_hat_ = probtoclass(y_hat)\n",
    "    return (y_hat_ == y).all(axis = 0).mean()\n",
    "    \n",
    "    \n"
   ]
  },
  {
   "cell_type": "code",
   "execution_count": 19,
   "metadata": {},
   "outputs": [
    {
     "name": "stdout",
     "output_type": "stream",
     "text": [
      "y_train data [0 1 1 1]\n",
      "y_train changed [[0 1 1 1]]\n",
      "A_curr / y_hat [[0.53689307 0.53670442 0.53656392 0.52830873]]\n",
      "costvalue 0.6631872730484996\n",
      "probtoclass [[1. 1. 1. 1.]]\n",
      "accuracyvalue 0.75\n"
     ]
    }
   ],
   "source": [
    "#np.transpose(y_train.reshape((y_train.shape[0] , 1)))\n",
    "\n",
    "CV = cost_value(y_train.reshape((y_train.shape[0] , 1)).T , y_hat_train )\n",
    "ptoc = probtoclass(y_hat_train)\n",
    "AV = accuracy_value(y_train.reshape((y_train.shape[0] , 1)).T , y_hat_train)\n",
    "print(\"y_train data\" ,y_train)\n",
    "print(\"y_train changed\" , y_train.reshape((y_train.shape[0] , 1)).T)\n",
    "print(\"A_curr / y_hat\" ,y_hat_train)\n",
    "print(\"costvalue\" , CV )\n",
    "print(\"probtoclass\" , ptoc)\n",
    "print(\"accuracyvalue\" , AV)"
   ]
  },
  {
   "cell_type": "code",
   "execution_count": 20,
   "metadata": {},
   "outputs": [],
   "source": [
    "def single_backprop(dA_curr , Z_curr , A_prev , W_curr , b_curr , activation = \"relu\"):\n",
    "    m = A_prev.shape[1]\n",
    "    \n",
    "    if activation is \"relu\":\n",
    "        activation_func = relu_backprop\n",
    "    elif activation is \"sigmoid\":\n",
    "        activation_func = sigmoid_backprop\n",
    "    else:\n",
    "        raise Exception(\"activation function not defined\")\n",
    "        \n",
    "    dZ_curr = activation_func(dA_curr , Z_curr)\n",
    "    dW_curr = np.dot(dZ_curr , A_prev.T) / m\n",
    "    db_curr = np.sum(dZ_curr , axis = 1 , keepdims= True ) / m\n",
    "    dA_prev = np.dot(W_curr.T , dZ_curr)\n",
    "    \n",
    "    return dA_prev , dW_curr , db_curr ,dZ_curr"
   ]
  },
  {
   "cell_type": "markdown",
   "metadata": {},
   "source": [
    "# Back Propagation"
   ]
  },
  {
   "cell_type": "code",
   "execution_count": 21,
   "metadata": {},
   "outputs": [],
   "source": [
    "def full_backprop(y , y_hat , memory , weights_baise, neuralnet ):\n",
    "    grad_value = {}\n",
    "    backprop_data = []\n",
    "    m = y.shape[1]\n",
    "    y = y.reshape(y_hat.shape)\n",
    "    \n",
    "    dA_prev = - (np.divide(y , y_hat) - np.divide(1- y , 1 - y_hat));\n",
    "    \n",
    "    for idx , layer in reversed(list(enumerate(neuralnet))):\n",
    "        layer_idx = idx + 1\n",
    "        activation_func = layer[\"activation\"]\n",
    "        \n",
    "        dA_curr = dA_prev\n",
    "        \n",
    "        A_prev = memory[\"A\" + str(idx)]\n",
    "        Z_curr = memory[\"Z\" + str(layer_idx)]\n",
    "        \n",
    "        W_curr = weights_baise[\"W\" + str(layer_idx)]\n",
    "        b_curr =  weights_baise[\"b\" + str(layer_idx)]\n",
    "        \n",
    "        dA_prev , dW_curr , db_curr , dZ_curr = single_backprop(dA_curr , Z_curr , A_prev , W_curr , b_curr , activation_func)\n",
    "        \n",
    "        grad_value[\"dW\" + str(layer_idx)] = dW_curr\n",
    "        grad_value[\"db\" + str(layer_idx)] = db_curr\n",
    "        \n",
    "        backprop_data.append([{\"idx\" : idx ,\"Y_train reshape\" : y_train.reshape((y_train.shape[0] , 1)),\"Y_hat/A_curr\" : y_hat_train, \"dA_prev/singleback\" : dA_prev , \"dA_curr/ dA_prev divid\" : dA_curr , \"Z_curr\" : Z_curr , \"dZ_curr\" : dZ_curr , \"dW_curr\" : dW_curr , \"db_curr\" : db_curr , \"m\": m}])\n",
    "    \n",
    "    return grad_value , backprop_data"
   ]
  },
  {
   "cell_type": "code",
   "execution_count": 22,
   "metadata": {},
   "outputs": [
    {
     "data": {
      "text/plain": [
       "{'dW2': array([[-0.00564326, -0.01962688,  0.0021323 , -0.01828971,  0.        ]]),\n",
       " 'db2': array([[-0.21538246]]),\n",
       " 'dW1': array([[ 0.01892161,  0.00096735],\n",
       "        [ 0.02279308,  0.00701128],\n",
       "        [-0.00705396,  0.00102759],\n",
       "        [ 0.02043447,  0.00628576],\n",
       "        [ 0.        ,  0.        ]]),\n",
       " 'db1': array([[ 0.01314526],\n",
       "        [ 0.01194359],\n",
       "        [-0.00306264],\n",
       "        [ 0.01070768],\n",
       "        [ 0.        ]])}"
      ]
     },
     "execution_count": 22,
     "metadata": {},
     "output_type": "execute_result"
    }
   ],
   "source": [
    "#y_train.reshape((y_train.shape[0] , 1)).T , y_hat_train\n",
    "grad_value , _ = full_backprop(y_train.reshape((y_train.shape[0] , 1)) , y_hat_train , memory , weights_baise_ , neuralnet)\n",
    "grad_value"
   ]
  },
  {
   "cell_type": "code",
   "execution_count": 23,
   "metadata": {},
   "outputs": [
    {
     "name": "stdout",
     "output_type": "stream",
     "text": [
      "[\n",
      "  [\n",
      "    {\n",
      "      'A_curr': array([[0.        , 0.        , 0.0076552 , 0.04033433],\n",
      "       [0.        , 0.        , 0.        , 0.16643839],\n",
      "       [0.04060802, 0.01646431, 0.01218105, 0.        ],\n",
      "       [0.        , 0.        , 0.        , 0.15509902],\n",
      "       [0.        , 0.        , 0.        , 0.        ]])\n",
      "      'A_prev': array([[-0.80373584,  0.04423593,  0.96210083,  1.9083946 ],\n",
      "       [ 0.10284377,  0.28599133, -0.44899971,  0.5870327 ]])\n",
      "      'W_curr': array([[ 0.04967142, -0.01382643],\n",
      "       [ 0.06476885,  0.15230299],\n",
      "       [-0.02341534, -0.0234137 ],\n",
      "       [ 0.15792128,  0.07674347],\n",
      "       [-0.04694744,  0.054256  ]])\n",
      "      'Z_curr': array([[-8.76864283e-02, -4.80987470e-02,  7.65520393e-03,\n",
      "         4.03343250e-02],\n",
      "       [-8.29666117e-02, -1.50530606e-04, -5.26428037e-02,\n",
      "         1.66438388e-01],\n",
      "       [ 4.06080205e-02,  1.64643138e-02,  1.21810541e-02,\n",
      "        -3.42340814e-02],\n",
      "       [-3.10362431e-01, -1.62394261e-01, -7.38496250e-02,\n",
      "         1.55099025e-01],\n",
      "       [-1.29178552e-01, -1.59051800e-01, -2.42020883e-01,\n",
      "        -2.30235973e-01]])\n",
      "      'b_curr': array([[-0.04634177],\n",
      "       [-0.04657298],\n",
      "       [ 0.02419623],\n",
      "       [-0.19132802],\n",
      "       [-0.17249178]])\n",
      "      'index': 0,\n",
      "    },\n",
      "  ],\n",
      "  [\n",
      "    {\n",
      "      'A_curr': array([[0.53689307, 0.53670442, 0.53656392, 0.52830873]])\n",
      "      'A_prev': array([[0.        , 0.        , 0.0076552 , 0.04033433],\n",
      "       [0.        , 0.        , 0.        , 0.16643839],\n",
      "       [0.04060802, 0.01646431, 0.01218105, 0.        ],\n",
      "       [0.        , 0.        , 0.        , 0.15509902],\n",
      "       [0.        , 0.        , 0.        , 0.        ]])\n",
      "      'W_curr': array([[-0.05622875, -0.10128311,  0.03142473, -0.09080241, -0.14123037]])\n",
      "      'Z_curr': array([[0.14784097, 0.14708226, 0.14651722, 0.11335617]])\n",
      "      'b_curr': array([[0.14656488]])\n",
      "      'index': 1,\n",
      "    },\n",
      "  ],\n",
      "]\n",
      "[\n",
      "  [\n",
      "    {\n",
      "      'Y_hat/A_curr': array([[0.53689307, 0.53670442, 0.53656392, 0.52830873]])\n",
      "      'Y_train reshape': array([[0],\n",
      "       [1],\n",
      "       [1],\n",
      "       [1]], dtype=int64)\n",
      "      'Z_curr': array([[0.14784097, 0.14708226, 0.14651722, 0.11335617]])\n",
      "      'dA_curr/ dA_prev divid': array([[ 2.15932852, -1.86322296, -1.86371086, -1.89283261]])\n",
      "      'dA_prev/singleback': array([[-0.03018883,  0.02605053,  0.02605843,  0.02652261],\n",
      "       [-0.0543782 ,  0.04692402,  0.04693825,  0.04777436],\n",
      "       [ 0.01687172, -0.01455894, -0.01456336, -0.01482277],\n",
      "       [-0.04875118,  0.04206835,  0.04208111,  0.0428307 ],\n",
      "       [-0.07582561,  0.06543141,  0.06545125,  0.06661713]])\n",
      "      'dW_curr': array([[-0.00564326, -0.01962688,  0.0021323 , -0.01828971,  0.        ]])\n",
      "      'dZ_curr': array([[ 0.53689307, -0.46329558, -0.46343608, -0.47169127]])\n",
      "      'db_curr': array([[-0.21538246]])\n",
      "      'idx': 1,\n",
      "      'm': 1,\n",
      "    },\n",
      "  ],\n",
      "  [\n",
      "    {\n",
      "      'Y_hat/A_curr': array([[0.53689307, 0.53670442, 0.53656392, 0.52830873]])\n",
      "      'Y_train reshape': array([[0],\n",
      "       [1],\n",
      "       [1],\n",
      "       [1]], dtype=int64)\n",
      "      'Z_curr': array([[-8.76864283e-02, -4.80987470e-02,  7.65520393e-03,\n",
      "         4.03343250e-02],\n",
      "       [-8.29666117e-02, -1.50530606e-04, -5.26428037e-02,\n",
      "         1.66438388e-01],\n",
      "       [ 4.06080205e-02,  1.64643138e-02,  1.21810541e-02,\n",
      "        -3.42340814e-02],\n",
      "       [-3.10362431e-01, -1.62394261e-01, -7.38496250e-02,\n",
      "         1.55099025e-01],\n",
      "       [-1.29178552e-01, -1.59051800e-01, -2.42020883e-01,\n",
      "        -2.30235973e-01]])\n",
      "      'dA_curr/ dA_prev divid': array([[-0.03018883,  0.02605053,  0.02605843,  0.02652261],\n",
      "       [-0.0543782 ,  0.04692402,  0.04693825,  0.04777436],\n",
      "       [ 0.01687172, -0.01455894, -0.01456336, -0.01482277],\n",
      "       [-0.04875118,  0.04206835,  0.04208111,  0.0428307 ],\n",
      "       [-0.07582561,  0.06543141,  0.06545125,  0.06661713]])\n",
      "      'dA_prev/singleback': array([[-3.95057053e-04,  3.40902494e-04,  1.63536512e-03,\n",
      "         1.11755856e-02],\n",
      "       [-3.95029354e-04,  3.40878591e-04, -1.93131338e-05,\n",
      "         1.01964414e-02]])\n",
      "      'dW_curr': array([[ 0.01892161,  0.00096735],\n",
      "       [ 0.02279308,  0.00701128],\n",
      "       [-0.00705396,  0.00102759],\n",
      "       [ 0.02043447,  0.00628576],\n",
      "       [ 0.        ,  0.        ]])\n",
      "      'dZ_curr': array([[ 0.        ,  0.        ,  0.02605843,  0.02652261],\n",
      "       [ 0.        ,  0.        ,  0.        ,  0.04777436],\n",
      "       [ 0.01687172, -0.01455894, -0.01456336,  0.        ],\n",
      "       [ 0.        ,  0.        ,  0.        ,  0.0428307 ],\n",
      "       [ 0.        ,  0.        ,  0.        ,  0.        ]])\n",
      "      'db_curr': array([[ 0.01314526],\n",
      "       [ 0.01194359],\n",
      "       [-0.00306264],\n",
      "       [ 0.01070768],\n",
      "       [ 0.        ]])\n",
      "      'idx': 0,\n",
      "      'm': 1,\n",
      "    },\n",
      "  ],\n",
      "]\n"
     ]
    }
   ],
   "source": [
    "_ , backprop_data = full_backprop(y_train.reshape((y_train.shape[0] , 1)) , y_hat_train , memory , weights_baise_ , neuralnet)\n",
    "\n",
    "pp(data)\n",
    "pp(backprop_data)"
   ]
  },
  {
   "cell_type": "markdown",
   "metadata": {},
   "source": [
    "# breakdown of parts in last layer as first layer back propagation"
   ]
  },
  {
   "cell_type": "markdown",
   "metadata": {},
   "source": [
    "### getting the value of dZ_curr"
   ]
  },
  {
   "cell_type": "code",
   "execution_count": 24,
   "metadata": {},
   "outputs": [
    {
     "data": {
      "text/plain": [
       "array([[-0.05622875, -0.10128311,  0.03142473, -0.09080241, -0.14123037]])"
      ]
     },
     "execution_count": 24,
     "metadata": {},
     "output_type": "execute_result"
    }
   ],
   "source": [
    "((list(data)[1])[0])[\"W_curr\"]\n"
   ]
  },
  {
   "cell_type": "code",
   "execution_count": 25,
   "metadata": {},
   "outputs": [
    {
     "name": "stdout",
     "output_type": "stream",
     "text": [
      "A_prev1 [[0.         0.         0.0076552  0.04033433]\n",
      " [0.         0.         0.         0.16643839]\n",
      " [0.04060802 0.01646431 0.01218105 0.        ]\n",
      " [0.         0.         0.         0.15509902]\n",
      " [0.         0.         0.         0.        ]]\n",
      "W_curr1 [[-0.05622875 -0.10128311  0.03142473 -0.09080241 -0.14123037]]\n",
      "Z_curr1 [[0.14784097 0.14708226 0.14651722 0.11335617]]\n"
     ]
    }
   ],
   "source": [
    "A_prev1 = np.array(((list(data)[1])[0])[\"A_prev\"])\n",
    "W_curr1 = np.array(((list(data)[1])[0])[\"W_curr\"])\n",
    "\n",
    "\n",
    "Z_curr1 = np.array(((list(data)[1])[0])[\"Z_curr\"])\n",
    "#m = y_train.reshape((y_train.shape[0] , 1)).shape[1]\n",
    "m = A_prev1.shape[1]\n",
    "print(\"A_prev1\" , A_prev1)\n",
    "print(\"W_curr1\" , W_curr1)\n",
    "print(\"Z_curr1\" , Z_curr1)"
   ]
  },
  {
   "cell_type": "code",
   "execution_count": 26,
   "metadata": {},
   "outputs": [],
   "source": [
    "y_train_ = np.transpose(y_train.reshape((y_train.shape[0] , 1)))"
   ]
  },
  {
   "cell_type": "code",
   "execution_count": 27,
   "metadata": {},
   "outputs": [
    {
     "name": "stdout",
     "output_type": "stream",
     "text": [
      "dA_prev_To_dA_curr_ [[ 2.15932852 -1.86322296 -1.86371086 -1.89283261]]\n",
      "Value of Y [[0 1 1 1]]\n",
      "Y_hat [[0.53689307 0.53670442 0.53656392 0.52830873]]\n"
     ]
    }
   ],
   "source": [
    "dA_prev_To_dA_curr_ = -( np.divide(y_train_.reshape(y_hat_train.shape) , y_hat_train) - np.divide(1 - y_train_.reshape(y_hat_train.shape) ,1 - y_hat_train))\n",
    "\n",
    "print(\"dA_prev_To_dA_curr_\" ,dA_prev_To_dA_curr_)\n",
    "print(\"Value of Y\",np.transpose(y_train.reshape((y_train.shape[0] , 1))).reshape(y_hat_train.shape))\n",
    "print(\"Y_hat\",y_hat_train)"
   ]
  },
  {
   "cell_type": "code",
   "execution_count": 28,
   "metadata": {},
   "outputs": [
    {
     "data": {
      "text/plain": [
       "array([[ 0.53689307, -0.46329558, -0.46343608, -0.47169127]])"
      ]
     },
     "execution_count": 28,
     "metadata": {},
     "output_type": "execute_result"
    }
   ],
   "source": [
    "dZ_curr1 = sigmoid_backprop(dA_prev_To_dA_curr_ , Z_curr1)\n",
    "dZ_curr1"
   ]
  },
  {
   "cell_type": "markdown",
   "metadata": {},
   "source": [
    "### checking value of dW_curr"
   ]
  },
  {
   "cell_type": "code",
   "execution_count": 29,
   "metadata": {},
   "outputs": [
    {
     "name": "stdout",
     "output_type": "stream",
     "text": [
      "dW_curr [[-0.00564326 -0.01962688  0.0021323  -0.01828971  0.        ]]\n",
      "db_curr [[-0.21538246]]\n"
     ]
    }
   ],
   "source": [
    "dW_curr1 = np.dot(dZ_curr1 , A_prev1.T)  /  m # this part is m\n",
    "db_curr1 = np.sum(dZ_curr1 , axis = 1 , keepdims = True) / m\n",
    "\n",
    "print(\"dW_curr\" , dW_curr1)\n",
    "print(\"db_curr\" , db_curr1)\n"
   ]
  },
  {
   "cell_type": "markdown",
   "metadata": {},
   "source": [
    "\n",
    "### checking value of dA_prev"
   ]
  },
  {
   "cell_type": "code",
   "execution_count": 30,
   "metadata": {},
   "outputs": [
    {
     "data": {
      "text/plain": [
       "array([[-0.03018883,  0.02605053,  0.02605843,  0.02652261],\n",
       "       [-0.0543782 ,  0.04692402,  0.04693825,  0.04777436],\n",
       "       [ 0.01687172, -0.01455894, -0.01456336, -0.01482277],\n",
       "       [-0.04875118,  0.04206835,  0.04208111,  0.0428307 ],\n",
       "       [-0.07582561,  0.06543141,  0.06545125,  0.06661713]])"
      ]
     },
     "execution_count": 30,
     "metadata": {},
     "output_type": "execute_result"
    }
   ],
   "source": [
    "#dA_prev = np.dot(W_curr.T , dZ_curr)\n",
    "dA_prev1 = np.dot(np.transpose(W_curr1 ), dZ_curr1) \n",
    "dA_prev1"
   ]
  },
  {
   "cell_type": "markdown",
   "metadata": {},
   "source": [
    "# breakdown of parts in second layer back propagation"
   ]
  },
  {
   "cell_type": "code",
   "execution_count": 31,
   "metadata": {},
   "outputs": [
    {
     "data": {
      "text/plain": [
       "array([[-8.76864283e-02, -4.80987470e-02,  7.65520393e-03,\n",
       "         4.03343250e-02],\n",
       "       [-8.29666117e-02, -1.50530606e-04, -5.26428037e-02,\n",
       "         1.66438388e-01],\n",
       "       [ 4.06080205e-02,  1.64643138e-02,  1.21810541e-02,\n",
       "        -3.42340814e-02],\n",
       "       [-3.10362431e-01, -1.62394261e-01, -7.38496250e-02,\n",
       "         1.55099025e-01],\n",
       "       [-1.29178552e-01, -1.59051800e-01, -2.42020883e-01,\n",
       "        -2.30235973e-01]])"
      ]
     },
     "execution_count": 31,
     "metadata": {},
     "output_type": "execute_result"
    }
   ],
   "source": [
    "((list(data)[0])[0])[\"Z_curr\"]"
   ]
  },
  {
   "cell_type": "code",
   "execution_count": 32,
   "metadata": {},
   "outputs": [
    {
     "name": "stdout",
     "output_type": "stream",
     "text": [
      "A_prev0 [[-0.80373584  0.04423593  0.96210083  1.9083946 ]\n",
      " [ 0.10284377  0.28599133 -0.44899971  0.5870327 ]]\n",
      "W_curr0 [[ 0.04967142 -0.01382643]\n",
      " [ 0.06476885  0.15230299]\n",
      " [-0.02341534 -0.0234137 ]\n",
      " [ 0.15792128  0.07674347]\n",
      " [-0.04694744  0.054256  ]]\n",
      "Z_curr0 [[-8.76864283e-02 -4.80987470e-02  7.65520393e-03  4.03343250e-02]\n",
      " [-8.29666117e-02 -1.50530606e-04 -5.26428037e-02  1.66438388e-01]\n",
      " [ 4.06080205e-02  1.64643138e-02  1.21810541e-02 -3.42340814e-02]\n",
      " [-3.10362431e-01 -1.62394261e-01 -7.38496250e-02  1.55099025e-01]\n",
      " [-1.29178552e-01 -1.59051800e-01 -2.42020883e-01 -2.30235973e-01]]\n"
     ]
    }
   ],
   "source": [
    "A_prev0 = np.array(((list(data)[0])[0])[\"A_prev\"])\n",
    "\n",
    "W_curr0 = np.array(((list(data)[0])[0])[\"W_curr\"])\n",
    "\n",
    "\n",
    "Z_curr0 = np.array(((list(data)[0])[0])[\"Z_curr\"])\n",
    "\n",
    "#m = y_train.reshape((y_train.shape[0] , 1)).shape[1]\n",
    "m = A_prev1.shape[1]\n",
    "\n",
    "print(\"A_prev0\" , A_prev0)\n",
    "print(\"W_curr0\" , W_curr0)\n",
    "print(\"Z_curr0\" , Z_curr0)"
   ]
  },
  {
   "cell_type": "code",
   "execution_count": 33,
   "metadata": {},
   "outputs": [
    {
     "name": "stdout",
     "output_type": "stream",
     "text": [
      "dA_prev_To_dA_curr_ [[-0.03018883  0.02605053  0.02605843  0.02652261]\n",
      " [-0.0543782   0.04692402  0.04693825  0.04777436]\n",
      " [ 0.01687172 -0.01455894 -0.01456336 -0.01482277]\n",
      " [-0.04875118  0.04206835  0.04208111  0.0428307 ]\n",
      " [-0.07582561  0.06543141  0.06545125  0.06661713]]\n",
      "Value of Y [[0 1 1 1]]\n",
      "Y_hat [[0.53689307 0.53670442 0.53656392 0.52830873]]\n"
     ]
    }
   ],
   "source": [
    "dA_prev_To_dA_curr_0 = dA_prev1\n",
    "\n",
    "print(\"dA_prev_To_dA_curr_\" ,dA_prev_To_dA_curr_0)\n",
    "\n",
    "print(\"Value of Y\",np.transpose(y_train.reshape((y_train.shape[0] , 1))).reshape(y_hat_train.shape))\n",
    "\n",
    "print(\"Y_hat\",y_hat_train)"
   ]
  },
  {
   "cell_type": "code",
   "execution_count": 34,
   "metadata": {},
   "outputs": [
    {
     "data": {
      "text/plain": [
       "array([[ 0.        ,  0.        ,  0.02605843,  0.02652261],\n",
       "       [ 0.        ,  0.        ,  0.        ,  0.04777436],\n",
       "       [ 0.01687172, -0.01455894, -0.01456336,  0.        ],\n",
       "       [ 0.        ,  0.        ,  0.        ,  0.0428307 ],\n",
       "       [ 0.        ,  0.        ,  0.        ,  0.        ]])"
      ]
     },
     "execution_count": 34,
     "metadata": {},
     "output_type": "execute_result"
    }
   ],
   "source": [
    "dZ_curr0 = relu_backprop(dA_prev_To_dA_curr_0 , Z_curr0)\n",
    "dZ_curr0"
   ]
  },
  {
   "cell_type": "markdown",
   "metadata": {},
   "source": [
    "### checking value of dW_curr"
   ]
  },
  {
   "cell_type": "code",
   "execution_count": 35,
   "metadata": {},
   "outputs": [
    {
     "name": "stdout",
     "output_type": "stream",
     "text": [
      "dW_curr [[ 0.01892161  0.00096735]\n",
      " [ 0.02279308  0.00701128]\n",
      " [-0.00705396  0.00102759]\n",
      " [ 0.02043447  0.00628576]\n",
      " [ 0.          0.        ]]\n",
      "db_curr [[ 0.01314526]\n",
      " [ 0.01194359]\n",
      " [-0.00306264]\n",
      " [ 0.01070768]\n",
      " [ 0.        ]]\n"
     ]
    }
   ],
   "source": [
    "dW_curr0 = np.dot(dZ_curr0 , A_prev0.T)  /  m # this part is m\n",
    "db_curr0 = np.sum(dZ_curr0 , axis = 1 , keepdims = True) / m\n",
    "\n",
    "print(\"dW_curr\" , dW_curr0)\n",
    "print(\"db_curr\" , db_curr0)\n"
   ]
  },
  {
   "cell_type": "markdown",
   "metadata": {},
   "source": [
    "### checking value of dA_prev"
   ]
  },
  {
   "cell_type": "code",
   "execution_count": 36,
   "metadata": {},
   "outputs": [
    {
     "data": {
      "text/plain": [
       "array([[-3.95057053e-04,  3.40902494e-04,  1.63536512e-03,\n",
       "         1.11755856e-02],\n",
       "       [-3.95029354e-04,  3.40878591e-04, -1.93131338e-05,\n",
       "         1.01964414e-02]])"
      ]
     },
     "execution_count": 36,
     "metadata": {},
     "output_type": "execute_result"
    }
   ],
   "source": [
    "dA_prev0 = np.dot(np.transpose(W_curr0 ), dZ_curr0) \n",
    "dA_prev0"
   ]
  },
  {
   "cell_type": "code",
   "execution_count": 37,
   "metadata": {},
   "outputs": [],
   "source": [
    "b_curr0 = np.array(((list(data)[0])[0])[\"b_curr\"])\n",
    "b_curr1 = np.array(((list(data)[1])[0])[\"b_curr\"])"
   ]
  },
  {
   "cell_type": "markdown",
   "metadata": {},
   "source": [
    "# Updating Gradient descent"
   ]
  },
  {
   "cell_type": "code",
   "execution_count": 38,
   "metadata": {},
   "outputs": [],
   "source": [
    "def update(neuralnet, learning_rate , grad_value , weights_baise):\n",
    "    \n",
    "    for layer_idx , layer in enumerate(neuralnet , 1):\n",
    "    \n",
    "        weights_baise[\"W\" + str(layer_idx)] -= learning_rate *  grad_value[\"dW\" + str(layer_idx)]\n",
    "        weights_baise[\"b\" + str(layer_idx)] -= learning_rate *  grad_value[\"db\" + str(layer_idx)]\n",
    "    \n",
    "    return weights_baise\n",
    "    "
   ]
  },
  {
   "cell_type": "markdown",
   "metadata": {},
   "source": [
    "#####  running the below code of \"update\" changes the values of weights andd baise so when \"train\" function is used it gives different values of weights and baise. it changes the previous values of W_curr and b_curr"
   ]
  },
  {
   "cell_type": "code",
   "execution_count": 39,
   "metadata": {},
   "outputs": [
    {
     "name": "stdout",
     "output_type": "stream",
     "text": [
      "{\n",
      "  'W1': array([[ 0.0494822 , -0.0138361 ],\n",
      "       [ 0.06454092,  0.15223287],\n",
      "       [-0.0233448 , -0.02342397],\n",
      "       [ 0.15771694,  0.07668062],\n",
      "       [-0.04694744,  0.054256  ]])\n",
      "  'W2': array([[-0.05617232, -0.10108684,  0.03140341, -0.09061951, -0.14123037]])\n",
      "  'b1': array([[-0.04647322],\n",
      "       [-0.04669241],\n",
      "       [ 0.02422685],\n",
      "       [-0.1914351 ],\n",
      "       [-0.17249178]])\n",
      "  'b2': array([[0.1487187]])\n",
      "}\n"
     ]
    }
   ],
   "source": [
    "weights_baise__ = update(neuralnet , 0.01 , grad_value , weights_baise_)\n",
    "pp(weights_baise__)"
   ]
  },
  {
   "cell_type": "code",
   "execution_count": 50,
   "metadata": {},
   "outputs": [
    {
     "name": "stdout",
     "output_type": "stream",
     "text": [
      "[[ 0.01892161  0.00096735]\n",
      " [ 0.02279308  0.00701128]\n",
      " [-0.00705396  0.00102759]\n",
      " [ 0.02043447  0.00628576]\n",
      " [ 0.          0.        ]]\n",
      "[[ 0.04967142 -0.01382643]\n",
      " [ 0.06476885  0.15230299]\n",
      " [-0.02341534 -0.0234137 ]\n",
      " [ 0.15792128  0.07674347]\n",
      " [-0.04694744  0.054256  ]]\n",
      "[[-0.00564326 -0.01962688  0.0021323  -0.01828971  0.        ]]\n",
      "[[-0.05622875 -0.10128311  0.03142473 -0.09080241 -0.14123037]]\n"
     ]
    }
   ],
   "source": [
    "#((list(data)[0])[0])\n",
    "print(dW_curr0)\n",
    "print(W_curr0)\n",
    "print(dW_curr1)\n",
    "print(W_curr1)"
   ]
  },
  {
   "cell_type": "code",
   "execution_count": 41,
   "metadata": {},
   "outputs": [
    {
     "name": "stdout",
     "output_type": "stream",
     "text": [
      "weightupdate1 [[ 0.0494822  -0.0138361 ]\n",
      " [ 0.06454092  0.15223287]\n",
      " [-0.0233448  -0.02342397]\n",
      " [ 0.15771694  0.07668062]\n",
      " [-0.04694744  0.054256  ]]\n",
      "weightupdate2 [[-0.05617232 -0.10108684  0.03140341 -0.09061951 -0.14123037]]\n",
      "baiseupadte1 [[-0.04647322]\n",
      " [-0.04669241]\n",
      " [ 0.02422685]\n",
      " [-0.1914351 ]\n",
      " [-0.17249178]]\n",
      "baiseupdate2 [[0.1487187]]\n"
     ]
    }
   ],
   "source": [
    "weightupdate1 = W_curr0 - 0.01 * dW_curr0\n",
    "weightupdate2 = W_curr1 - 0.01 * dW_curr1\n",
    "baiseupadte1 =  b_curr0 - 0.01 * db_curr0\n",
    "baiseupdate2 =  b_curr1 - 0.01 * db_curr1\n",
    "\n",
    "print(\"weightupdate1\" , weightupdate1)\n",
    "print(\"weightupdate2\" , weightupdate2)\n",
    "print(\"baiseupadte1\" , baiseupadte1)\n",
    "print(\"baiseupdate2\" , baiseupdate2)"
   ]
  },
  {
   "cell_type": "markdown",
   "metadata": {},
   "source": [
    "# Training the Model"
   ]
  },
  {
   "cell_type": "code",
   "execution_count": 42,
   "metadata": {},
   "outputs": [],
   "source": [
    "def train(x , y , learning_rate  , epoch , neuralnet , callback = None , lossfunction = False ):\n",
    "    cost_value_history = []\n",
    "    accuracy_value_history = []\n",
    "    \n",
    "    back_prop_history = []\n",
    "    lossfunc = []\n",
    "    updatedweight_baise = []\n",
    "    weights_baise = first_layer(neuralnet , 42)\n",
    "    forward_prop_history = []\n",
    "    \n",
    "    for i in range(epoch):\n",
    "        \n",
    "       \n",
    "    \n",
    "        memory , y_hat , data = full_forward_layer(neuralnet , weights_baise , x)\n",
    "        \n",
    "        forward_prop_history.append([i , data])\n",
    "        \n",
    "        cost = cost_value(y , y_hat)\n",
    "        cost_value_history.append(cost)\n",
    "        accuracy = accuracy_value(y , y_hat)\n",
    "        accuracy_value_history.append(accuracy)\n",
    "        \n",
    "    \n",
    "        grad_value , backprop_data = full_backprop(y , y_hat , memory , weights_baise, neuralnet )\n",
    "        \n",
    "        back_prop_history.append([i , backprop_data])\n",
    "    \n",
    "        weights_baise = update(neuralnet, learning_rate , grad_value , weights_baise)\n",
    "        \n",
    "        updatedweight_baise.append([{\"loop\" : i , \"weightsafterlearning\" : weights_baise}])\n",
    "        \n",
    "        \n",
    "        \n",
    "        \n",
    "        \n",
    "        \n",
    "        if (i % 100 == 0):\n",
    "        \n",
    "            if(lossfunction is not None):\n",
    "                lossfunc.append([i , cost , accuracy])\n",
    "            if(callback is not None):\n",
    "                callback(i , weights_baise)\n",
    "    \n",
    "    \n",
    "    return weights_baise , lossfunc , forward_prop_history , back_prop_history , updatedweight_baise\n",
    "    "
   ]
  },
  {
   "cell_type": "code",
   "execution_count": 43,
   "metadata": {},
   "outputs": [],
   "source": [
    "weights_baise , lossfunc , forward_prop_history , back_prop_history , updatedweight_baise = train(x_train.T , y_train_ , 0.01  , 1 , neuralnet , callback = None , lossfunction = None )\n"
   ]
  },
  {
   "cell_type": "markdown",
   "metadata": {},
   "source": [
    "# Using weights and baise with Test data"
   ]
  },
  {
   "cell_type": "code",
   "execution_count": 44,
   "metadata": {},
   "outputs": [
    {
     "data": {
      "text/plain": [
       "array([[0.53622688]])"
      ]
     },
     "execution_count": 44,
     "metadata": {},
     "output_type": "execute_result"
    }
   ],
   "source": [
    "_, Y_test_hat , _ = full_forward_layer(neuralnet  , weights_baise , np.transpose(x_test))\n",
    "Y_test_hat"
   ]
  },
  {
   "cell_type": "code",
   "execution_count": 45,
   "metadata": {},
   "outputs": [
    {
     "name": "stdout",
     "output_type": "stream",
     "text": [
      "0.0\n"
     ]
    }
   ],
   "source": [
    "# Accuracy achieved on the test set\n",
    "acc_test = accuracy_value( np.transpose(y_test.reshape((y_test.shape[0], 1))) , Y_test_hat )\n",
    "print((acc_test))"
   ]
  },
  {
   "cell_type": "code",
   "execution_count": 46,
   "metadata": {},
   "outputs": [
    {
     "name": "stdout",
     "output_type": "stream",
     "text": [
      "forward_prop_history [0, [[{'index': 0, 'A_prev': array([[-0.80373584,  0.04423593,  0.96210083,  1.9083946 ],\n",
      "       [ 0.10284377,  0.28599133, -0.44899971,  0.5870327 ]]), 'W_curr': array([[ 0.0494822 , -0.0138361 ],\n",
      "       [ 0.06454092,  0.15223287],\n",
      "       [-0.0233448 , -0.02342397],\n",
      "       [ 0.15771694,  0.07668062],\n",
      "       [-0.04694744,  0.054256  ]]), 'b_curr': array([[-0.04647322],\n",
      "       [-0.04669241],\n",
      "       [ 0.02422685],\n",
      "       [-0.1914351 ],\n",
      "       [-0.17249178]]), 'Z_curr': array([[-8.76864283e-02, -4.80987470e-02,  7.65520393e-03,\n",
      "         4.03343250e-02],\n",
      "       [-8.29666117e-02, -1.50530606e-04, -5.26428037e-02,\n",
      "         1.66438388e-01],\n",
      "       [ 4.06080205e-02,  1.64643138e-02,  1.21810541e-02,\n",
      "        -3.42340814e-02],\n",
      "       [-3.10362431e-01, -1.62394261e-01, -7.38496250e-02,\n",
      "         1.55099025e-01],\n",
      "       [-1.29178552e-01, -1.59051800e-01, -2.42020883e-01,\n",
      "        -2.30235973e-01]]), 'A_curr': array([[0.        , 0.        , 0.0076552 , 0.04033433],\n",
      "       [0.        , 0.        , 0.        , 0.16643839],\n",
      "       [0.04060802, 0.01646431, 0.01218105, 0.        ],\n",
      "       [0.        , 0.        , 0.        , 0.15509902],\n",
      "       [0.        , 0.        , 0.        , 0.        ]])}], [{'index': 1, 'A_prev': array([[0.        , 0.        , 0.0076552 , 0.04033433],\n",
      "       [0.        , 0.        , 0.        , 0.16643839],\n",
      "       [0.04060802, 0.01646431, 0.01218105, 0.        ],\n",
      "       [0.        , 0.        , 0.        , 0.15509902],\n",
      "       [0.        , 0.        , 0.        , 0.        ]]), 'W_curr': array([[-0.05617232, -0.10108684,  0.03140341, -0.09061951, -0.14123037]]), 'b_curr': array([[0.1487187]]), 'Z_curr': array([[0.14784097, 0.14708226, 0.14651722, 0.11335617]]), 'A_curr': array([[0.53689307, 0.53670442, 0.53656392, 0.52830873]])}]]]\n"
     ]
    }
   ],
   "source": [
    "print(\"forward_prop_history\" , forward_prop_history[0])\n",
    "#pp(updatedweight_baise)\n",
    "#pp(forward_prop_history[0])\n",
    "\n",
    "#print(\"back_prop_history\" , back_prop_history)"
   ]
  },
  {
   "cell_type": "code",
   "execution_count": 47,
   "metadata": {},
   "outputs": [
    {
     "name": "stdout",
     "output_type": "stream",
     "text": [
      "[\n",
      "  [\n",
      "    {\n",
      "      'loop': 0,\n",
      "      'weightsafterlearning': {\n",
      "        'W1': array([[ 0.0494822 , -0.0138361 ],\n",
      "       [ 0.06454092,  0.15223287],\n",
      "       [-0.0233448 , -0.02342397],\n",
      "       [ 0.15771694,  0.07668062],\n",
      "       [-0.04694744,  0.054256  ]])\n",
      "        'W2': array([[-0.05617232, -0.10108684,  0.03140341, -0.09061951, -0.14123037]])\n",
      "        'b1': array([[-0.04647322],\n",
      "       [-0.04669241],\n",
      "       [ 0.02422685],\n",
      "       [-0.1914351 ],\n",
      "       [-0.17249178]])\n",
      "        'b2': array([[0.1487187]])\n",
      "      },\n",
      "    },\n",
      "  ],\n",
      "]\n"
     ]
    }
   ],
   "source": [
    "pp(updatedweight_baise)"
   ]
  },
  {
   "cell_type": "code",
   "execution_count": 48,
   "metadata": {},
   "outputs": [
    {
     "data": {
      "text/plain": [
       "[]"
      ]
     },
     "execution_count": 48,
     "metadata": {},
     "output_type": "execute_result"
    }
   ],
   "source": [
    "#lossfun = np.array(lossfunc , copy = True )[:,0:2]\n",
    "#lossfun.shape\n",
    "lossfunc"
   ]
  },
  {
   "cell_type": "markdown",
   "metadata": {},
   "source": [
    "# graph of loss function"
   ]
  },
  {
   "cell_type": "code",
   "execution_count": null,
   "metadata": {
    "scrolled": false
   },
   "outputs": [],
   "source": [
    "#loss_function__ = plt.plot(lossfun[:,0] , lossfun [:,1])"
   ]
  },
  {
   "cell_type": "code",
   "execution_count": null,
   "metadata": {},
   "outputs": [],
   "source": [
    "# def make_plot(X , Y, file_name=None, XX=None, YY=None, preds=None):\n",
    "\n",
    "#     if(XX is not None and YY is not None and preds is not None):\n",
    "#         plt.contourf(XX, YY, preds.reshape(XX.shape))\n",
    "#         plt.contour(XX, YY, preds.reshape(XX.shape))\n",
    "#     plt.scatter(X[:, 0], X[:, 1])\n",
    "#     if(file_name):\n",
    "#         plt.savefig(file_name)\n",
    "#         plt.close()"
   ]
  },
  {
   "cell_type": "markdown",
   "metadata": {},
   "source": [
    "# using numpy.mgrid to plot the values"
   ]
  },
  {
   "cell_type": "code",
   "execution_count": null,
   "metadata": {},
   "outputs": [],
   "source": [
    "# location = \"E:\\\\python folder\\\\images\\\\\"\n",
    "# grid = np.mgrid[-1.5:2.5:100j,-1.5:2:100j]\n",
    "# grid_2d = grid.reshape(2, -1).T\n",
    "# XX, YY = grid"
   ]
  },
  {
   "cell_type": "code",
   "execution_count": null,
   "metadata": {},
   "outputs": [],
   "source": [
    "# def callbacks(index , weights_baise):\n",
    "#     file_name = str(index//100)\n",
    "#     file_path = os.path.join(location, file_name)\n",
    "    \n",
    "#     _ , prediction = full_forward_layer(neuralnet , weights_baise, np.transpose(grid_2d))\n",
    "#     prediction = prediction.reshape(prediction.shape[1], 1)\n",
    "#     make_plot(x_test,y_test , file_name=file_path, XX=XX, YY=YY, preds=prediction)\n",
    "    \n",
    "# def lossfunction(index , cost , accuracy):\n",
    "    \n",
    "#     return index , cost , accuracy"
   ]
  },
  {
   "cell_type": "code",
   "execution_count": null,
   "metadata": {},
   "outputs": [],
   "source": [
    "#     _ , prediction_ , _ = full_forward_layer(neuralnet , weights_baise, np.transpose(grid_2d))\n",
    "#     prediction_ = prediction_.reshape(prediction_.shape[1], 1)\n",
    "#     make_plot(x_test,y_test , file_name=None, XX=XX, YY=YY, preds=prediction_)\n",
    "    \n",
    "    "
   ]
  },
  {
   "cell_type": "code",
   "execution_count": null,
   "metadata": {},
   "outputs": [],
   "source": [
    "# grid.shape"
   ]
  },
  {
   "cell_type": "code",
   "execution_count": null,
   "metadata": {},
   "outputs": [],
   "source": [
    "# grid_2d.shape"
   ]
  },
  {
   "cell_type": "code",
   "execution_count": null,
   "metadata": {},
   "outputs": [],
   "source": [
    "# prediction_.shape"
   ]
  },
  {
   "cell_type": "code",
   "execution_count": null,
   "metadata": {},
   "outputs": [],
   "source": []
  },
  {
   "cell_type": "code",
   "execution_count": null,
   "metadata": {},
   "outputs": [],
   "source": []
  },
  {
   "cell_type": "code",
   "execution_count": null,
   "metadata": {},
   "outputs": [],
   "source": []
  },
  {
   "cell_type": "code",
   "execution_count": null,
   "metadata": {},
   "outputs": [],
   "source": []
  }
 ],
 "metadata": {
  "kernelspec": {
   "display_name": "Python 3",
   "language": "python",
   "name": "python3"
  },
  "language_info": {
   "codemirror_mode": {
    "name": "ipython",
    "version": 3
   },
   "file_extension": ".py",
   "mimetype": "text/x-python",
   "name": "python",
   "nbconvert_exporter": "python",
   "pygments_lexer": "ipython3",
   "version": "3.7.5"
  }
 },
 "nbformat": 4,
 "nbformat_minor": 2
}
