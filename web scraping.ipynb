{
 "cells": [
  {
   "cell_type": "code",
   "execution_count": 1,
   "metadata": {},
   "outputs": [],
   "source": [
    "import requests as rq\n",
    "from bs4 import BeautifulSoup as bs\n",
    "import pandas as pd\n",
    "from urllib.parse import urljoin\n",
    "import numpy as np"
   ]
  },
  {
   "cell_type": "markdown",
   "metadata": {},
   "source": [
    "# Adding website to be scraped"
   ]
  },
  {
   "cell_type": "code",
   "execution_count": 2,
   "metadata": {},
   "outputs": [],
   "source": [
    "website = \"https://lootahperfumes.ae/collections/incense-fragrant-oud\""
   ]
  },
  {
   "cell_type": "code",
   "execution_count": 3,
   "metadata": {},
   "outputs": [],
   "source": [
    "link = rq.get(website)\n",
    "links = link.content"
   ]
  },
  {
   "cell_type": "code",
   "execution_count": 4,
   "metadata": {},
   "outputs": [
    {
     "data": {
      "text/plain": [
       "b'<!doctype html>\\n<!--[if lt IE 7]><html class=\"no-js lt-ie9 lt-ie8 lt-ie7\" lang=\"en\"> <![endif]-->\\n<!'"
      ]
     },
     "execution_count": 4,
     "metadata": {},
     "output_type": "execute_result"
    }
   ],
   "source": [
    "links[:100]"
   ]
  },
  {
   "cell_type": "markdown",
   "metadata": {},
   "source": [
    "# Creating BeautifulSoup Object along with Parser details"
   ]
  },
  {
   "cell_type": "code",
   "execution_count": 16,
   "metadata": {},
   "outputs": [],
   "source": [
    "soupobj = bs(links , \"html5lib\")\n"
   ]
  },
  {
   "cell_type": "markdown",
   "metadata": {},
   "source": [
    "# Saving the Soup object in HTML file"
   ]
  },
  {
   "cell_type": "code",
   "execution_count": 6,
   "metadata": {},
   "outputs": [],
   "source": [
    "with open (\"lootah.HTML\" , \"wb\") as f:\n",
    "    f.write(soupobj.prettify(\"utf-8\"))"
   ]
  },
  {
   "cell_type": "markdown",
   "metadata": {},
   "source": [
    "# Extracting all link for the webpage"
   ]
  },
  {
   "cell_type": "code",
   "execution_count": 7,
   "metadata": {},
   "outputs": [
    {
     "data": {
      "text/plain": [
       "['https://lootahperfumes.ae/collections/incense-fragrant-oud',\n",
       " 'https://lootahperfumes.ae/collections/incense-fragrant-oud',\n",
       " 'https://lootahperfumes.ae/collections/incense-fragrant-oud',\n",
       " 'https://lootahperfumes.ae/search?q=incense-set*&type=product',\n",
       " 'https://lootahperfumes.ae/search?q=palomino*&type=product',\n",
       " 'https://lootahperfumes.ae/search?q=the-blend-set*&type=product',\n",
       " 'https://lootahperfumes.ae/search?q=bint-al-shyookh*&type=product',\n",
       " 'https://lootahperfumes.ae/search?q=ayoon-al-maha*&type=product',\n",
       " 'https://lootahperfumes.ae/search?q=oud-al-sultan*&type=product',\n",
       " 'https://lootahperfumes.ae/collections/incense-fragrant-oud/products/perfume-palomino',\n",
       " 'https://lootahperfumes.ae/collections/incense-fragrant-oud/products/perfume-palomino',\n",
       " 'https://lootahperfumes.ae/collections/incense-fragrant-oud/products/perfume-yoland',\n",
       " 'https://lootahperfumes.ae/collections/incense-fragrant-oud/products/perfume-yoland',\n",
       " 'https://lootahperfumes.ae/collections/incense-fragrant-oud/products/perfume-immerse',\n",
       " 'https://lootahperfumes.ae/collections/incense-fragrant-oud/products/perfume-immerse',\n",
       " 'https://lootahperfumes.ae/',\n",
       " 'https://lootahperfumes.ae/collections/incense-fragrant-oud',\n",
       " 'https://lootahperfumes.ae/collections/incense-fragrant-oud',\n",
       " 'https://www.facebook.com/Lootahperfumes/',\n",
       " 'https://twitter.com/lootah_perfumes',\n",
       " 'https://www.instagram.com/lootahperfumes/?hl=en',\n",
       " 'https://www.pinterest.com/lootahperfumes/pins/',\n",
       " 'https://lootahperfumes.ae/account/register',\n",
       " 'https://lootahperfumes.ae/account/login',\n",
       " 'https://lootahperfumes.ae/',\n",
       " 'https://lootahperfumes.ae/search?q=incense-set*&type=product',\n",
       " 'https://lootahperfumes.ae/search?q=palomino*&type=product',\n",
       " 'https://lootahperfumes.ae/search?q=the-blend-set*&type=product',\n",
       " 'https://lootahperfumes.ae/search?q=bint-al-shyookh*&type=product',\n",
       " 'https://lootahperfumes.ae/search?q=ayoon-al-maha*&type=product',\n",
       " 'https://lootahperfumes.ae/search?q=oud-al-sultan*&type=product',\n",
       " 'https://lootahperfumes.ae/collections/incense-fragrant-oud/products/perfume-palomino',\n",
       " 'https://lootahperfumes.ae/collections/incense-fragrant-oud/products/perfume-palomino',\n",
       " 'https://lootahperfumes.ae/collections/incense-fragrant-oud/products/perfume-yoland',\n",
       " 'https://lootahperfumes.ae/collections/incense-fragrant-oud/products/perfume-yoland',\n",
       " 'https://lootahperfumes.ae/collections/incense-fragrant-oud/products/perfume-immerse',\n",
       " 'https://lootahperfumes.ae/collections/incense-fragrant-oud/products/perfume-immerse',\n",
       " 'https://lootahperfumes.ae/pages/wish-list',\n",
       " 'https://lootahperfumes.ae/collections/incense-fragrant-oud',\n",
       " 'https://lootahperfumes.ae/',\n",
       " 'https://lootahperfumes.ae/collections/gift-sets',\n",
       " 'https://lootahperfumes.ae/collections/perfumes',\n",
       " 'https://lootahperfumes.ae/collections/incense-fragrant-oud',\n",
       " 'https://lootahperfumes.ae/collections/fragrant-oil',\n",
       " 'https://lootahperfumes.ae/pages/shop-insta',\n",
       " 'https://lootahperfumes.ae/pages/contact-us',\n",
       " 'https://lootahperfumes.ae/collections/incense-fragrant-oud',\n",
       " 'https://lootahperfumes.ae/',\n",
       " 'https://lootahperfumes.ae/collections/incense-fragrant-oud',\n",
       " 'https://lootahperfumes.ae/collections/perfumes',\n",
       " 'https://lootahperfumes.ae/collections/fragrant-oil',\n",
       " 'https://lootahperfumes.ae/collections/incense-fragrant-oud',\n",
       " 'https://lootahperfumes.ae/collections/gift-sets',\n",
       " 'https://lootahperfumes.ae/collections/incense-fragrant-oud/products/fragrant-oud-oud-mater-signature-small',\n",
       " 'https://lootahperfumes.ae/collections/incense-fragrant-oud/products/fragrant-oud-oud-mater-signature-small',\n",
       " 'https://lootahperfumes.ae/collections/incense-fragrant-oud/products/mabe',\n",
       " 'https://lootahperfumes.ae/collections/incense-fragrant-oud/products/mabe',\n",
       " 'https://lootahperfumes.ae/collections/incense-fragrant-oud/products/fragrant-oud-oud-mater-signature-big',\n",
       " 'https://lootahperfumes.ae/collections/incense-fragrant-oud/products/fragrant-oud-oud-mater-signature-big',\n",
       " 'https://lootahperfumes.ae/collections/incense-fragrant-oud/products/fragrant-oil-signature',\n",
       " 'https://lootahperfumes.ae/collections/incense-fragrant-oud/products/fragrant-oil-signature',\n",
       " 'https://lootahperfumes.ae/collections/incense-fragrant-oud/products/fragrant-oud-oud-mater-al-sultan-small',\n",
       " 'https://lootahperfumes.ae/collections/incense-fragrant-oud',\n",
       " 'https://lootahperfumes.ae/collections/incense-fragrant-oud/products/fragrant-oud-oud-mater-al-sultan-small',\n",
       " 'https://lootahperfumes.ae/collections/incense-fragrant-oud/products/fragrant-oud-oud-mater-al-sultan-small',\n",
       " 'https://lootahperfumes.ae/collections/incense-fragrant-oud',\n",
       " 'https://lootahperfumes.ae/collections/incense-fragrant-oud/products/fragrant-oud-oud-mater-al-sultan',\n",
       " 'https://lootahperfumes.ae/collections/incense-fragrant-oud',\n",
       " 'https://lootahperfumes.ae/collections/incense-fragrant-oud/products/fragrant-oud-oud-mater-al-sultan',\n",
       " 'https://lootahperfumes.ae/collections/incense-fragrant-oud/products/fragrant-oud-oud-mater-al-sultan',\n",
       " 'https://lootahperfumes.ae/collections/incense-fragrant-oud',\n",
       " 'https://lootahperfumes.ae/collections/incense-fragrant-oud/products/incense-rawda-small',\n",
       " 'https://lootahperfumes.ae/collections/incense-fragrant-oud',\n",
       " 'https://lootahperfumes.ae/collections/incense-fragrant-oud/products/incense-rawda-small',\n",
       " 'https://lootahperfumes.ae/collections/incense-fragrant-oud/products/incense-rawda-small',\n",
       " 'https://lootahperfumes.ae/collections/incense-fragrant-oud',\n",
       " 'https://lootahperfumes.ae/collections/incense-fragrant-oud/products/incense-bint-al-shyookh-big',\n",
       " 'https://lootahperfumes.ae/collections/incense-fragrant-oud',\n",
       " 'https://lootahperfumes.ae/collections/incense-fragrant-oud/products/incense-bint-al-shyookh-big',\n",
       " 'https://lootahperfumes.ae/collections/incense-fragrant-oud/products/incense-bint-al-shyookh-big',\n",
       " 'https://lootahperfumes.ae/collections/incense-fragrant-oud',\n",
       " 'https://lootahperfumes.ae/collections/incense-fragrant-oud/products/incense-rawda',\n",
       " 'https://lootahperfumes.ae/collections/incense-fragrant-oud',\n",
       " 'https://lootahperfumes.ae/collections/incense-fragrant-oud/products/incense-rawda',\n",
       " 'https://lootahperfumes.ae/collections/incense-fragrant-oud/products/incense-rawda',\n",
       " 'https://lootahperfumes.ae/collections/incense-fragrant-oud',\n",
       " 'https://lootahperfumes.ae/collections/incense-fragrant-oud/products/fragrant-oud-oud-mater-al-ameer-small',\n",
       " 'https://lootahperfumes.ae/collections/incense-fragrant-oud',\n",
       " 'https://lootahperfumes.ae/collections/incense-fragrant-oud/products/fragrant-oud-oud-mater-al-ameer-small',\n",
       " 'https://lootahperfumes.ae/collections/incense-fragrant-oud/products/fragrant-oud-oud-mater-al-ameer-small',\n",
       " 'https://lootahperfumes.ae/collections/incense-fragrant-oud',\n",
       " 'https://lootahperfumes.ae/collections/incense-fragrant-oud/products/incense-bint-al-shyookh-small',\n",
       " 'https://lootahperfumes.ae/collections/incense-fragrant-oud',\n",
       " 'https://lootahperfumes.ae/collections/incense-fragrant-oud/products/incense-bint-al-shyookh-small',\n",
       " 'https://lootahperfumes.ae/collections/incense-fragrant-oud/products/incense-bint-al-shyookh-small',\n",
       " 'https://lootahperfumes.ae/collections/incense-fragrant-oud',\n",
       " 'https://lootahperfumes.ae/collections/incense-fragrant-oud/products/fragrant-oud-oud-mater-signature-small',\n",
       " 'https://lootahperfumes.ae/collections/incense-fragrant-oud',\n",
       " 'https://lootahperfumes.ae/collections/incense-fragrant-oud/products/fragrant-oud-oud-mater-signature-small',\n",
       " 'https://lootahperfumes.ae/collections/incense-fragrant-oud/products/fragrant-oud-oud-mater-signature-small',\n",
       " 'https://lootahperfumes.ae/collections/incense-fragrant-oud',\n",
       " 'https://lootahperfumes.ae/collections/incense-fragrant-oud/products/incense-signature',\n",
       " 'https://lootahperfumes.ae/collections/incense-fragrant-oud',\n",
       " 'https://lootahperfumes.ae/collections/incense-fragrant-oud/products/incense-signature',\n",
       " 'https://lootahperfumes.ae/collections/incense-fragrant-oud/products/incense-signature',\n",
       " 'https://lootahperfumes.ae/collections/incense-fragrant-oud',\n",
       " 'https://lootahperfumes.ae/collections/incense-fragrant-oud/products/fragrant-oud-oud-mater-ambwood-small',\n",
       " 'https://lootahperfumes.ae/collections/incense-fragrant-oud',\n",
       " 'https://lootahperfumes.ae/collections/incense-fragrant-oud/products/fragrant-oud-oud-mater-ambwood-small',\n",
       " 'https://lootahperfumes.ae/collections/incense-fragrant-oud/products/fragrant-oud-oud-mater-ambwood-small',\n",
       " 'https://lootahperfumes.ae/collections/incense-fragrant-oud',\n",
       " 'https://lootahperfumes.ae/collections/incense-fragrant-oud/products/fragrant-oud-oud-mater-ambwood',\n",
       " 'https://lootahperfumes.ae/collections/incense-fragrant-oud',\n",
       " 'https://lootahperfumes.ae/collections/incense-fragrant-oud/products/fragrant-oud-oud-mater-ambwood',\n",
       " 'https://lootahperfumes.ae/collections/incense-fragrant-oud/products/fragrant-oud-oud-mater-ambwood',\n",
       " 'https://lootahperfumes.ae/collections/incense-fragrant-oud',\n",
       " 'https://lootahperfumes.ae/collections/incense-fragrant-oud/products/incense-signature-small',\n",
       " 'https://lootahperfumes.ae/collections/incense-fragrant-oud',\n",
       " 'https://lootahperfumes.ae/collections/incense-fragrant-oud/products/incense-signature-small',\n",
       " 'https://lootahperfumes.ae/collections/incense-fragrant-oud/products/incense-signature-small',\n",
       " 'https://lootahperfumes.ae/collections/incense-fragrant-oud',\n",
       " 'https://lootahperfumes.ae/collections/incense-fragrant-oud/products/incense-citrusk-big',\n",
       " 'https://lootahperfumes.ae/collections/incense-fragrant-oud',\n",
       " 'https://lootahperfumes.ae/collections/incense-fragrant-oud/products/incense-citrusk-big',\n",
       " 'https://lootahperfumes.ae/collections/incense-fragrant-oud/products/incense-citrusk-big',\n",
       " 'https://lootahperfumes.ae/collections/incense-fragrant-oud',\n",
       " 'https://lootahperfumes.ae/collections/incense-fragrant-oud/products/incense-citrusk-small',\n",
       " 'https://lootahperfumes.ae/collections/incense-fragrant-oud',\n",
       " 'https://lootahperfumes.ae/collections/incense-fragrant-oud/products/incense-citrusk-small',\n",
       " 'https://lootahperfumes.ae/collections/incense-fragrant-oud/products/incense-citrusk-small',\n",
       " 'https://lootahperfumes.ae/collections/incense-fragrant-oud',\n",
       " 'https://lootahperfumes.ae/collections/incense-fragrant-oud/products/fragrant-oud-oud-mater-ameer-big',\n",
       " 'https://lootahperfumes.ae/collections/incense-fragrant-oud',\n",
       " 'https://lootahperfumes.ae/collections/incense-fragrant-oud/products/fragrant-oud-oud-mater-ameer-big',\n",
       " 'https://lootahperfumes.ae/collections/incense-fragrant-oud/products/fragrant-oud-oud-mater-ameer-big',\n",
       " 'https://lootahperfumes.ae/collections/incense-fragrant-oud',\n",
       " 'https://lootahperfumes.ae/collections/incense-fragrant-oud/products/incense-floramusk-small',\n",
       " 'https://lootahperfumes.ae/collections/incense-fragrant-oud',\n",
       " 'https://lootahperfumes.ae/collections/incense-fragrant-oud/products/incense-floramusk-small',\n",
       " 'https://lootahperfumes.ae/collections/incense-fragrant-oud/products/incense-floramusk-small',\n",
       " 'https://lootahperfumes.ae/collections/incense-fragrant-oud',\n",
       " 'https://lootahperfumes.ae/collections/incense-fragrant-oud/products/incense-lootah-small',\n",
       " 'https://lootahperfumes.ae/collections/incense-fragrant-oud',\n",
       " 'https://lootahperfumes.ae/collections/incense-fragrant-oud/products/incense-lootah-small',\n",
       " 'https://lootahperfumes.ae/collections/incense-fragrant-oud/products/incense-lootah-small',\n",
       " 'https://lootahperfumes.ae/collections/incense-fragrant-oud',\n",
       " 'https://lootahperfumes.ae/collections/incense-fragrant-oud/products/incense-dubai-small',\n",
       " 'https://lootahperfumes.ae/collections/incense-fragrant-oud',\n",
       " 'https://lootahperfumes.ae/collections/incense-fragrant-oud/products/incense-dubai-small',\n",
       " 'https://lootahperfumes.ae/collections/incense-fragrant-oud/products/incense-dubai-small',\n",
       " 'https://lootahperfumes.ae/collections/incense-fragrant-oud',\n",
       " 'https://lootahperfumes.ae/collections/incense-fragrant-oud/products/fragrant-oud-oud-mater-signature-big',\n",
       " 'https://lootahperfumes.ae/collections/incense-fragrant-oud',\n",
       " 'https://lootahperfumes.ae/collections/incense-fragrant-oud/products/fragrant-oud-oud-mater-signature-big',\n",
       " 'https://lootahperfumes.ae/collections/incense-fragrant-oud/products/fragrant-oud-oud-mater-signature-big',\n",
       " 'https://lootahperfumes.ae/collections/incense-fragrant-oud',\n",
       " 'https://lootahperfumes.ae/collections/incense-fragrant-oud/products/al-yasee-small-jar',\n",
       " 'https://lootahperfumes.ae/collections/incense-fragrant-oud',\n",
       " 'https://lootahperfumes.ae/collections/incense-fragrant-oud/products/al-yasee-small-jar',\n",
       " 'https://lootahperfumes.ae/collections/incense-fragrant-oud/products/al-yasee-small-jar',\n",
       " 'https://lootahperfumes.ae/collections/incense-fragrant-oud',\n",
       " 'https://lootahperfumes.ae/collections/incense-fragrant-oud/products/incense-al-yasee',\n",
       " 'https://lootahperfumes.ae/collections/incense-fragrant-oud',\n",
       " 'https://lootahperfumes.ae/collections/incense-fragrant-oud/products/incense-al-yasee',\n",
       " 'https://lootahperfumes.ae/collections/incense-fragrant-oud/products/incense-al-yasee',\n",
       " 'https://lootahperfumes.ae/collections/incense-fragrant-oud',\n",
       " 'https://lootahperfumes.ae/collections/incense-fragrant-oud/products/candy-misk-small-jar',\n",
       " 'https://lootahperfumes.ae/collections/incense-fragrant-oud',\n",
       " 'https://lootahperfumes.ae/collections/incense-fragrant-oud/products/candy-misk-small-jar',\n",
       " 'https://lootahperfumes.ae/collections/incense-fragrant-oud/products/candy-misk-small-jar',\n",
       " 'https://lootahperfumes.ae/collections/incense-fragrant-oud',\n",
       " 'https://lootahperfumes.ae/collections/incense-fragrant-oud/products/heil-vanilla',\n",
       " 'https://lootahperfumes.ae/collections/incense-fragrant-oud',\n",
       " 'https://lootahperfumes.ae/collections/incense-fragrant-oud/products/heil-vanilla',\n",
       " 'https://lootahperfumes.ae/collections/incense-fragrant-oud/products/heil-vanilla',\n",
       " 'https://lootahperfumes.ae/collections/incense-fragrant-oud',\n",
       " 'https://lootahperfumes.ae/collections/incense-fragrant-oud/products/incense-sandalusk-small',\n",
       " 'https://lootahperfumes.ae/collections/incense-fragrant-oud',\n",
       " 'https://lootahperfumes.ae/collections/incense-fragrant-oud/products/incense-sandalusk-small',\n",
       " 'https://lootahperfumes.ae/collections/incense-fragrant-oud/products/incense-sandalusk-small',\n",
       " 'https://lootahperfumes.ae/collections/incense-fragrant-oud',\n",
       " 'https://lootahperfumes.ae/collections/incense-fragrant-oud/products/vetiver-small-jar',\n",
       " 'https://lootahperfumes.ae/collections/incense-fragrant-oud',\n",
       " 'https://lootahperfumes.ae/collections/incense-fragrant-oud/products/vetiver-small-jar',\n",
       " 'https://lootahperfumes.ae/collections/incense-fragrant-oud/products/vetiver-small-jar',\n",
       " 'https://lootahperfumes.ae/collections/incense-fragrant-oud',\n",
       " 'https://lootahperfumes.ae/collections/trending',\n",
       " 'https://lootahperfumes.ae/pages/shop-insta',\n",
       " 'https://lootahperfumes.ae/collections/all',\n",
       " 'https://lootahperfumes.ae/collections/perfumes',\n",
       " 'https://lootahperfumes.ae/collections/incense-fragrant-oud',\n",
       " 'https://lootahperfumes.ae/collections/fragrant-oil',\n",
       " 'https://lootahperfumes.ae/pages/store-locator',\n",
       " 'https://lootahperfumes.ae/pages/contact-us',\n",
       " 'https://lootahperfumes.ae/policies/shipping-policy',\n",
       " 'https://lootahperfumes.ae/policies/refund-policy',\n",
       " 'https://lootahperfumes.ae/policies/privacy-policy',\n",
       " 'https://lootahperfumes.ae/policies/terms-of-service',\n",
       " 'https://lootahperfumes.ae/pages/contact-us',\n",
       " 'https://lootahperfumes.ae/pages/contact-us',\n",
       " 'https://lootahperfumes.ae/pages/contact-us',\n",
       " 'https://lootahperfumes.ae/pages/contact-us',\n",
       " 'https://lootahperfumes.ae/pages/contact-us',\n",
       " 'https://www.facebook.com/Lootahperfumes/',\n",
       " 'https://twitter.com/lootah_perfumes',\n",
       " 'https://www.instagram.com/lootahperfumes/?hl=en',\n",
       " 'https://www.pinterest.com/lootahperfumes/pins/',\n",
       " 'https://lootahperfumes.ae/collections/incense-fragrant-oud',\n",
       " 'https://lootahperfumes.ae/collections/incense-fragrant-oud',\n",
       " 'https://lootahperfumes.ae/account/login#recover',\n",
       " 'https://lootahperfumes.ae/account/register',\n",
       " 'https://lootahperfumes.ae/cart',\n",
       " 'https://lootahperfumes.ae/collections/incense-fragrant-oud',\n",
       " 'https://lootahperfumes.ae/collections/incense-fragrant-oud']"
      ]
     },
     "execution_count": 7,
     "metadata": {},
     "output_type": "execute_result"
    }
   ],
   "source": [
    "all_link = soupobj.find_all(\"a\")\n",
    "all_links=[urljoin(website ,a.get(\"href\")) for a in all_link if a.get(\"href\") != 'javascript:void(0)']\n",
    "all_links"
   ]
  },
  {
   "cell_type": "markdown",
   "metadata": {},
   "source": [
    "# From all links extracting only links relating to products"
   ]
  },
  {
   "cell_type": "code",
   "execution_count": 8,
   "metadata": {},
   "outputs": [
    {
     "name": "stdout",
     "output_type": "stream",
     "text": [
      "30\n"
     ]
    },
    {
     "data": {
      "text/plain": [
       "array(['https://lootahperfumes.ae/collections/incense-fragrant-oud/products/al-yasee-small-jar',\n",
       "       'https://lootahperfumes.ae/collections/incense-fragrant-oud/products/candy-misk-small-jar',\n",
       "       'https://lootahperfumes.ae/collections/incense-fragrant-oud/products/fragrant-oil-signature',\n",
       "       'https://lootahperfumes.ae/collections/incense-fragrant-oud/products/fragrant-oud-oud-mater-al-ameer-small',\n",
       "       'https://lootahperfumes.ae/collections/incense-fragrant-oud/products/fragrant-oud-oud-mater-al-sultan',\n",
       "       'https://lootahperfumes.ae/collections/incense-fragrant-oud/products/fragrant-oud-oud-mater-al-sultan-small',\n",
       "       'https://lootahperfumes.ae/collections/incense-fragrant-oud/products/fragrant-oud-oud-mater-ambwood',\n",
       "       'https://lootahperfumes.ae/collections/incense-fragrant-oud/products/fragrant-oud-oud-mater-ambwood-small',\n",
       "       'https://lootahperfumes.ae/collections/incense-fragrant-oud/products/fragrant-oud-oud-mater-ameer-big',\n",
       "       'https://lootahperfumes.ae/collections/incense-fragrant-oud/products/fragrant-oud-oud-mater-signature-big',\n",
       "       'https://lootahperfumes.ae/collections/incense-fragrant-oud/products/fragrant-oud-oud-mater-signature-small',\n",
       "       'https://lootahperfumes.ae/collections/incense-fragrant-oud/products/heil-vanilla',\n",
       "       'https://lootahperfumes.ae/collections/incense-fragrant-oud/products/incense-al-yasee',\n",
       "       'https://lootahperfumes.ae/collections/incense-fragrant-oud/products/incense-bint-al-shyookh-big',\n",
       "       'https://lootahperfumes.ae/collections/incense-fragrant-oud/products/incense-bint-al-shyookh-small',\n",
       "       'https://lootahperfumes.ae/collections/incense-fragrant-oud/products/incense-citrusk-big',\n",
       "       'https://lootahperfumes.ae/collections/incense-fragrant-oud/products/incense-citrusk-small',\n",
       "       'https://lootahperfumes.ae/collections/incense-fragrant-oud/products/incense-dubai-small',\n",
       "       'https://lootahperfumes.ae/collections/incense-fragrant-oud/products/incense-floramusk-small',\n",
       "       'https://lootahperfumes.ae/collections/incense-fragrant-oud/products/incense-lootah-small',\n",
       "       'https://lootahperfumes.ae/collections/incense-fragrant-oud/products/incense-rawda',\n",
       "       'https://lootahperfumes.ae/collections/incense-fragrant-oud/products/incense-rawda-small',\n",
       "       'https://lootahperfumes.ae/collections/incense-fragrant-oud/products/incense-sandalusk-small',\n",
       "       'https://lootahperfumes.ae/collections/incense-fragrant-oud/products/incense-signature',\n",
       "       'https://lootahperfumes.ae/collections/incense-fragrant-oud/products/incense-signature-small',\n",
       "       'https://lootahperfumes.ae/collections/incense-fragrant-oud/products/mabe',\n",
       "       'https://lootahperfumes.ae/collections/incense-fragrant-oud/products/perfume-immerse',\n",
       "       'https://lootahperfumes.ae/collections/incense-fragrant-oud/products/perfume-palomino',\n",
       "       'https://lootahperfumes.ae/collections/incense-fragrant-oud/products/perfume-yoland',\n",
       "       'https://lootahperfumes.ae/collections/incense-fragrant-oud/products/vetiver-small-jar'],\n",
       "      dtype='<U106')"
      ]
     },
     "execution_count": 8,
     "metadata": {},
     "output_type": "execute_result"
    }
   ],
   "source": [
    "product_links = [x for x in all_links if \"incense-fragrant-oud/products\" in x]\n",
    "npproduct_links = np.unique(product_links)\n",
    "print(len(npproduct_links))\n",
    "npproduct_links"
   ]
  },
  {
   "cell_type": "markdown",
   "metadata": {},
   "source": [
    "# Finding the tags containing product information"
   ]
  },
  {
   "cell_type": "code",
   "execution_count": 17,
   "metadata": {},
   "outputs": [],
   "source": [
    "all_prod = soupobj.find_all(\"div\" , attrs={\"class\" , \"product-details\"})\n",
    "all_produc =  [x.find_all(\"span\" ) for x in all_prod]\n",
    "\n"
   ]
  },
  {
   "cell_type": "markdown",
   "metadata": {},
   "source": [
    "# Extracting the product details from the Soup object"
   ]
  },
  {
   "cell_type": "code",
   "execution_count": 10,
   "metadata": {
    "scrolled": true
   },
   "outputs": [
    {
     "data": {
      "text/plain": [
       "25"
      ]
     },
     "execution_count": 10,
     "metadata": {},
     "output_type": "execute_result"
    }
   ],
   "source": [
    "all_product = [x[0].string for x in all_produc]\n",
    "len(all_product)"
   ]
  },
  {
   "cell_type": "code",
   "execution_count": 11,
   "metadata": {},
   "outputs": [
    {
     "name": "stdout",
     "output_type": "stream",
     "text": [
      "25\n"
     ]
    }
   ],
   "source": [
    "all_products  =[x.strip(\"\\n\") for x in all_product  ]\n",
    "print(len(all_products))\n"
   ]
  },
  {
   "cell_type": "markdown",
   "metadata": {},
   "source": [
    "# Extracting the price details from the Soup Object\n"
   ]
  },
  {
   "cell_type": "code",
   "execution_count": 12,
   "metadata": {},
   "outputs": [
    {
     "data": {
      "text/plain": [
       "25"
      ]
     },
     "execution_count": 12,
     "metadata": {},
     "output_type": "execute_result"
    }
   ],
   "source": [
    "all_pric = [x[3].string for x in all_produc]\n",
    "all_price  = [float(x.strip(\"Dhs. \")) for x in all_pric]\n",
    "len(all_price)"
   ]
  },
  {
   "cell_type": "markdown",
   "metadata": {},
   "source": [
    "# Extracting the product  description from the Soup Object\n"
   ]
  },
  {
   "cell_type": "code",
   "execution_count": 13,
   "metadata": {},
   "outputs": [
    {
     "data": {
      "text/plain": [
       "25"
      ]
     },
     "execution_count": 13,
     "metadata": {},
     "output_type": "execute_result"
    }
   ],
   "source": [
    "desc = soupobj.find_all(\"div\" , class_=\"short-description\")\n",
    "descrip = [x.text for x in desc]\n",
    "description =  [x.strip(\" \\n \") for x in descrip]\n",
    "len(description)"
   ]
  },
  {
   "cell_type": "markdown",
   "metadata": {},
   "source": [
    "# Creating Pandas DataFrame"
   ]
  },
  {
   "cell_type": "code",
   "execution_count": 14,
   "metadata": {},
   "outputs": [],
   "source": [
    "df = pd.DataFrame()"
   ]
  },
  {
   "cell_type": "code",
   "execution_count": 15,
   "metadata": {},
   "outputs": [
    {
     "data": {
      "text/html": [
       "<style  type=\"text/css\" >\n",
       "    #T_1eb27_ th {\n",
       "          text-align: left;\n",
       "    }#T_1eb27_row0_col0,#T_1eb27_row0_col1,#T_1eb27_row0_col2,#T_1eb27_row1_col0,#T_1eb27_row1_col1,#T_1eb27_row1_col2,#T_1eb27_row2_col0,#T_1eb27_row2_col1,#T_1eb27_row2_col2,#T_1eb27_row3_col0,#T_1eb27_row3_col1,#T_1eb27_row3_col2,#T_1eb27_row4_col0,#T_1eb27_row4_col1,#T_1eb27_row4_col2,#T_1eb27_row5_col0,#T_1eb27_row5_col1,#T_1eb27_row5_col2,#T_1eb27_row6_col0,#T_1eb27_row6_col1,#T_1eb27_row6_col2,#T_1eb27_row7_col0,#T_1eb27_row7_col1,#T_1eb27_row7_col2,#T_1eb27_row8_col0,#T_1eb27_row8_col1,#T_1eb27_row8_col2,#T_1eb27_row9_col0,#T_1eb27_row9_col1,#T_1eb27_row9_col2,#T_1eb27_row10_col0,#T_1eb27_row10_col1,#T_1eb27_row10_col2,#T_1eb27_row11_col0,#T_1eb27_row11_col1,#T_1eb27_row11_col2,#T_1eb27_row12_col0,#T_1eb27_row12_col1,#T_1eb27_row12_col2,#T_1eb27_row13_col0,#T_1eb27_row13_col1,#T_1eb27_row13_col2,#T_1eb27_row14_col0,#T_1eb27_row14_col1,#T_1eb27_row14_col2,#T_1eb27_row15_col0,#T_1eb27_row15_col1,#T_1eb27_row15_col2,#T_1eb27_row16_col0,#T_1eb27_row16_col1,#T_1eb27_row16_col2,#T_1eb27_row17_col0,#T_1eb27_row17_col1,#T_1eb27_row17_col2,#T_1eb27_row18_col0,#T_1eb27_row18_col1,#T_1eb27_row18_col2,#T_1eb27_row19_col0,#T_1eb27_row19_col1,#T_1eb27_row19_col2,#T_1eb27_row20_col0,#T_1eb27_row20_col1,#T_1eb27_row20_col2,#T_1eb27_row21_col0,#T_1eb27_row21_col1,#T_1eb27_row21_col2,#T_1eb27_row22_col0,#T_1eb27_row22_col1,#T_1eb27_row22_col2,#T_1eb27_row23_col0,#T_1eb27_row23_col1,#T_1eb27_row23_col2,#T_1eb27_row24_col0,#T_1eb27_row24_col1,#T_1eb27_row24_col2{\n",
       "            text-align:  left;\n",
       "        }</style><table id=\"T_1eb27_\" ><thead>    <tr>        <th class=\"blank level0\" ></th>        <th class=\"col_heading level0 col0\" >Product name</th>        <th class=\"col_heading level0 col1\" >price</th>        <th class=\"col_heading level0 col2\" >Description</th>    </tr></thead><tbody>\n",
       "                <tr>\n",
       "                        <th id=\"T_1eb27_level0_row0\" class=\"row_heading level0 row0\" >0</th>\n",
       "                        <td id=\"T_1eb27_row0_col0\" class=\"data row0 col0\" >  Al Sultan Oud - Small Jar</td>\n",
       "                        <td id=\"T_1eb27_row0_col1\" class=\"data row0 col1\" >230.000000</td>\n",
       "                        <td id=\"T_1eb27_row0_col2\" class=\"data row0 col2\" >Eminent presence and freshness that rises with its incense infused with roses, each meticulously chosen, with an enticing dreamy French touch.</td>\n",
       "            </tr>\n",
       "            <tr>\n",
       "                        <th id=\"T_1eb27_level0_row1\" class=\"row_heading level0 row1\" >1</th>\n",
       "                        <td id=\"T_1eb27_row1_col0\" class=\"data row1 col0\" >  Al Sultan Oud</td>\n",
       "                        <td id=\"T_1eb27_row1_col1\" class=\"data row1 col1\" >600.000000</td>\n",
       "                        <td id=\"T_1eb27_row1_col2\" class=\"data row1 col2\" >Eminent presence and freshness that rises with its incense infused with roses, each meticulously chosen, with an enticing dreamy French touch.</td>\n",
       "            </tr>\n",
       "            <tr>\n",
       "                        <th id=\"T_1eb27_level0_row2\" class=\"row_heading level0 row2\" >2</th>\n",
       "                        <td id=\"T_1eb27_row2_col0\" class=\"data row2 col0\" >  Rawda - Small Jar</td>\n",
       "                        <td id=\"T_1eb27_row2_col1\" class=\"data row2 col1\" >190.000000</td>\n",
       "                        <td id=\"T_1eb27_row2_col2\" class=\"data row2 col2\" >For those who love a well sated, sweetened perfume, especially in the mornings, for freshness that lasts and tells who you are wherever you go.</td>\n",
       "            </tr>\n",
       "            <tr>\n",
       "                        <th id=\"T_1eb27_level0_row3\" class=\"row_heading level0 row3\" >3</th>\n",
       "                        <td id=\"T_1eb27_row3_col0\" class=\"data row3 col0\" >  Bint Al Shyookh - Small Jar</td>\n",
       "                        <td id=\"T_1eb27_row3_col1\" class=\"data row3 col1\" >190.000000</td>\n",
       "                        <td id=\"T_1eb27_row3_col2\" class=\"data row3 col2\" >In one word, an incense that represents authenticity of heritage and depth of civilization, made of splendid lavender beauty, painting a mirror of past that hearts long for.</td>\n",
       "            </tr>\n",
       "            <tr>\n",
       "                        <th id=\"T_1eb27_level0_row4\" class=\"row_heading level0 row4\" >4</th>\n",
       "                        <td id=\"T_1eb27_row4_col0\" class=\"data row4 col0\" >  Rawda</td>\n",
       "                        <td id=\"T_1eb27_row4_col1\" class=\"data row4 col1\" >390.000000</td>\n",
       "                        <td id=\"T_1eb27_row4_col2\" class=\"data row4 col2\" >For those who love a well sated, sweetened perfume, especially in the mornings, for freshness that lasts and tells who you are wherever you go.</td>\n",
       "            </tr>\n",
       "            <tr>\n",
       "                        <th id=\"T_1eb27_level0_row5\" class=\"row_heading level0 row5\" >5</th>\n",
       "                        <td id=\"T_1eb27_row5_col0\" class=\"data row5 col0\" >  Al Ameer Oud - Small Jar</td>\n",
       "                        <td id=\"T_1eb27_row5_col1\" class=\"data row5 col1\" >190.000000</td>\n",
       "                        <td id=\"T_1eb27_row5_col2\" class=\"data row5 col2\" >It is crowned as the fragrance of the repined woods, that lived through times and indulged the real meaning of life, to shower all events with its essence.</td>\n",
       "            </tr>\n",
       "            <tr>\n",
       "                        <th id=\"T_1eb27_level0_row6\" class=\"row_heading level0 row6\" >6</th>\n",
       "                        <td id=\"T_1eb27_row6_col0\" class=\"data row6 col0\" >  Bint Al Shyookh</td>\n",
       "                        <td id=\"T_1eb27_row6_col1\" class=\"data row6 col1\" >390.000000</td>\n",
       "                        <td id=\"T_1eb27_row6_col2\" class=\"data row6 col2\" >In one word, an incense that represents authenticity of heritage and depth of civilization, made of splendid lavender beauty, painting a mirror of past that hearts long for.</td>\n",
       "            </tr>\n",
       "            <tr>\n",
       "                        <th id=\"T_1eb27_level0_row7\" class=\"row_heading level0 row7\" >7</th>\n",
       "                        <td id=\"T_1eb27_row7_col0\" class=\"data row7 col0\" >  Signature Oud - Small Jar</td>\n",
       "                        <td id=\"T_1eb27_row7_col1\" class=\"data row7 col1\" >290.000000</td>\n",
       "                        <td id=\"T_1eb27_row7_col2\" class=\"data row7 col2\" >Add significance to your moments and impress those around you with a touch of amber that flows from the beauty of flower mixed with the magical scent of henna and musk.Signature... the Fragrant Oud</td>\n",
       "            </tr>\n",
       "            <tr>\n",
       "                        <th id=\"T_1eb27_level0_row8\" class=\"row_heading level0 row8\" >8</th>\n",
       "                        <td id=\"T_1eb27_row8_col0\" class=\"data row8 col0\" >  Signature Incense</td>\n",
       "                        <td id=\"T_1eb27_row8_col1\" class=\"data row8 col1\" >475.000000</td>\n",
       "                        <td id=\"T_1eb27_row8_col2\" class=\"data row8 col2\" >The freshness of jasmine with musk and the exotic spiciness of nutmeg will uplift and refresh you.</td>\n",
       "            </tr>\n",
       "            <tr>\n",
       "                        <th id=\"T_1eb27_level0_row9\" class=\"row_heading level0 row9\" >9</th>\n",
       "                        <td id=\"T_1eb27_row9_col0\" class=\"data row9 col0\" >  Ambwood Oud - Small Jar</td>\n",
       "                        <td id=\"T_1eb27_row9_col1\" class=\"data row9 col1\" >190.000000</td>\n",
       "                        <td id=\"T_1eb27_row9_col2\" class=\"data row9 col2\" >The scented intersection between the warmth of the East with all of its aroma, and the elegance of the French fragrance, Ambwood is a soft impact that exceeds all what is expected.</td>\n",
       "            </tr>\n",
       "            <tr>\n",
       "                        <th id=\"T_1eb27_level0_row10\" class=\"row_heading level0 row10\" >10</th>\n",
       "                        <td id=\"T_1eb27_row10_col0\" class=\"data row10 col0\" >  Ambwood Oud</td>\n",
       "                        <td id=\"T_1eb27_row10_col1\" class=\"data row10 col1\" >390.000000</td>\n",
       "                        <td id=\"T_1eb27_row10_col2\" class=\"data row10 col2\" >The scented intersection between the warmth of the East with all of its aroma, and the elegance of the French fragrance, Ambwood is a soft impact that exceeds all what is expected.</td>\n",
       "            </tr>\n",
       "            <tr>\n",
       "                        <th id=\"T_1eb27_level0_row11\" class=\"row_heading level0 row11\" >11</th>\n",
       "                        <td id=\"T_1eb27_row11_col0\" class=\"data row11 col0\" >  Signature Incense - Small Jar</td>\n",
       "                        <td id=\"T_1eb27_row11_col1\" class=\"data row11 col1\" >230.000000</td>\n",
       "                        <td id=\"T_1eb27_row11_col2\" class=\"data row11 col2\" >The freshness of jasmine with musk and the exotic spiciness of nutmeg will uplift and refresh you.</td>\n",
       "            </tr>\n",
       "            <tr>\n",
       "                        <th id=\"T_1eb27_level0_row12\" class=\"row_heading level0 row12\" >12</th>\n",
       "                        <td id=\"T_1eb27_row12_col0\" class=\"data row12 col0\" >  Citrusk</td>\n",
       "                        <td id=\"T_1eb27_row12_col1\" class=\"data row12 col1\" >390.000000</td>\n",
       "                        <td id=\"T_1eb27_row12_col2\" class=\"data row12 col2\" >There is nothing that will give you a better sense of freshness more than the scent of Citrusk.</td>\n",
       "            </tr>\n",
       "            <tr>\n",
       "                        <th id=\"T_1eb27_level0_row13\" class=\"row_heading level0 row13\" >13</th>\n",
       "                        <td id=\"T_1eb27_row13_col0\" class=\"data row13 col0\" >  Citrusk - Small Jar</td>\n",
       "                        <td id=\"T_1eb27_row13_col1\" class=\"data row13 col1\" >190.000000</td>\n",
       "                        <td id=\"T_1eb27_row13_col2\" class=\"data row13 col2\" >There is nothing that will give you a better sense of freshness more than the scent of Citrusk.</td>\n",
       "            </tr>\n",
       "            <tr>\n",
       "                        <th id=\"T_1eb27_level0_row14\" class=\"row_heading level0 row14\" >14</th>\n",
       "                        <td id=\"T_1eb27_row14_col0\" class=\"data row14 col0\" >  Al Ameer Oud</td>\n",
       "                        <td id=\"T_1eb27_row14_col1\" class=\"data row14 col1\" >390.000000</td>\n",
       "                        <td id=\"T_1eb27_row14_col2\" class=\"data row14 col2\" >It is crowned as the fragrance of the repined woods, that lived through times and indulged the real meaning of life, to shower all events with its essence.</td>\n",
       "            </tr>\n",
       "            <tr>\n",
       "                        <th id=\"T_1eb27_level0_row15\" class=\"row_heading level0 row15\" >15</th>\n",
       "                        <td id=\"T_1eb27_row15_col0\" class=\"data row15 col0\" >  Floramusk - Small Jar</td>\n",
       "                        <td id=\"T_1eb27_row15_col1\" class=\"data row15 col1\" >190.000000</td>\n",
       "                        <td id=\"T_1eb27_row15_col2\" class=\"data row15 col2\" >Refresh your moments with a touch of floral that is crowned with the magic of spices and the scent of musk... Floramusk, a refreshing incense from Lootah Perfumes.</td>\n",
       "            </tr>\n",
       "            <tr>\n",
       "                        <th id=\"T_1eb27_level0_row16\" class=\"row_heading level0 row16\" >16</th>\n",
       "                        <td id=\"T_1eb27_row16_col0\" class=\"data row16 col0\" >  Lootah Incense - Small Jar</td>\n",
       "                        <td id=\"T_1eb27_row16_col1\" class=\"data row16 col1\" >190.000000</td>\n",
       "                        <td id=\"T_1eb27_row16_col2\" class=\"data row16 col2\" ></td>\n",
       "            </tr>\n",
       "            <tr>\n",
       "                        <th id=\"T_1eb27_level0_row17\" class=\"row_heading level0 row17\" >17</th>\n",
       "                        <td id=\"T_1eb27_row17_col0\" class=\"data row17 col0\" >  Dubai - Small Jar</td>\n",
       "                        <td id=\"T_1eb27_row17_col1\" class=\"data row17 col1\" >190.000000</td>\n",
       "                        <td id=\"T_1eb27_row17_col2\" class=\"data row17 col2\" ></td>\n",
       "            </tr>\n",
       "            <tr>\n",
       "                        <th id=\"T_1eb27_level0_row18\" class=\"row_heading level0 row18\" >18</th>\n",
       "                        <td id=\"T_1eb27_row18_col0\" class=\"data row18 col0\" >  Signature Fragrant Oud</td>\n",
       "                        <td id=\"T_1eb27_row18_col1\" class=\"data row18 col1\" >790.000000</td>\n",
       "                        <td id=\"T_1eb27_row18_col2\" class=\"data row18 col2\" >Add significance to your moments and impress those around you with a touch of amber that flows from the beauty of flower mixed with the magical scent of henna and musk.Signature... the Fragrant Oud</td>\n",
       "            </tr>\n",
       "            <tr>\n",
       "                        <th id=\"T_1eb27_level0_row19\" class=\"row_heading level0 row19\" >19</th>\n",
       "                        <td id=\"T_1eb27_row19_col0\" class=\"data row19 col0\" >  Al Yasee - Small Jar</td>\n",
       "                        <td id=\"T_1eb27_row19_col1\" class=\"data row19 col1\" >190.000000</td>\n",
       "                        <td id=\"T_1eb27_row19_col2\" class=\"data row19 col2\" >A blend of pure musk essence, showered with irresistible attractions and an enticing friendly aroma, captivating every heart that comes its way.</td>\n",
       "            </tr>\n",
       "            <tr>\n",
       "                        <th id=\"T_1eb27_level0_row20\" class=\"row_heading level0 row20\" >20</th>\n",
       "                        <td id=\"T_1eb27_row20_col0\" class=\"data row20 col0\" >  Al Yasee</td>\n",
       "                        <td id=\"T_1eb27_row20_col1\" class=\"data row20 col1\" >390.000000</td>\n",
       "                        <td id=\"T_1eb27_row20_col2\" class=\"data row20 col2\" >A blend of pure musk essence, showered with irresistible attractions and an enticing friendly aroma, captivating every heart that comes its way.</td>\n",
       "            </tr>\n",
       "            <tr>\n",
       "                        <th id=\"T_1eb27_level0_row21\" class=\"row_heading level0 row21\" >21</th>\n",
       "                        <td id=\"T_1eb27_row21_col0\" class=\"data row21 col0\" >  Candy Misk - Small Jar</td>\n",
       "                        <td id=\"T_1eb27_row21_col1\" class=\"data row21 col1\" >450.000000</td>\n",
       "                        <td id=\"T_1eb27_row21_col2\" class=\"data row21 col2\" ></td>\n",
       "            </tr>\n",
       "            <tr>\n",
       "                        <th id=\"T_1eb27_level0_row22\" class=\"row_heading level0 row22\" >22</th>\n",
       "                        <td id=\"T_1eb27_row22_col0\" class=\"data row22 col0\" >  Heil Vanilla - Small Jar</td>\n",
       "                        <td id=\"T_1eb27_row22_col1\" class=\"data row22 col1\" >450.000000</td>\n",
       "                        <td id=\"T_1eb27_row22_col2\" class=\"data row22 col2\" ></td>\n",
       "            </tr>\n",
       "            <tr>\n",
       "                        <th id=\"T_1eb27_level0_row23\" class=\"row_heading level0 row23\" >23</th>\n",
       "                        <td id=\"T_1eb27_row23_col0\" class=\"data row23 col0\" >  Sandalusk - Small Jar</td>\n",
       "                        <td id=\"T_1eb27_row23_col1\" class=\"data row23 col1\" >190.000000</td>\n",
       "                        <td id=\"T_1eb27_row23_col2\" class=\"data row23 col2\" >There is a strong connection between incense and emotions, use the musk for relaxation, and use the sandal wood for a refreshing feeling</td>\n",
       "            </tr>\n",
       "            <tr>\n",
       "                        <th id=\"T_1eb27_level0_row24\" class=\"row_heading level0 row24\" >24</th>\n",
       "                        <td id=\"T_1eb27_row24_col0\" class=\"data row24 col0\" >  Vetiver - Small Jar</td>\n",
       "                        <td id=\"T_1eb27_row24_col1\" class=\"data row24 col1\" >450.000000</td>\n",
       "                        <td id=\"T_1eb27_row24_col2\" class=\"data row24 col2\" ></td>\n",
       "            </tr>\n",
       "    </tbody></table>"
      ],
      "text/plain": [
       "<pandas.io.formats.style.Styler at 0xe231408>"
      ]
     },
     "execution_count": 15,
     "metadata": {},
     "output_type": "execute_result"
    }
   ],
   "source": [
    "df[\"Product name\"] = all_products\n",
    "df[\"price\"] = all_price\n",
    "df[\"Description\"] = description\n",
    "pd.set_option('display.max_colwidth',0)\n",
    "\n",
    "data = df.style.set_properties(**{'text-align': 'left'}).set_table_styles([ dict(selector='th', props=[('text-align', 'left')] ) ])\n",
    "data"
   ]
  },
  {
   "cell_type": "code",
   "execution_count": null,
   "metadata": {},
   "outputs": [],
   "source": []
  },
  {
   "cell_type": "code",
   "execution_count": null,
   "metadata": {},
   "outputs": [],
   "source": []
  }
 ],
 "metadata": {
  "kernelspec": {
   "display_name": "Python 3",
   "language": "python",
   "name": "python3"
  },
  "language_info": {
   "codemirror_mode": {
    "name": "ipython",
    "version": 3
   },
   "file_extension": ".py",
   "mimetype": "text/x-python",
   "name": "python",
   "nbconvert_exporter": "python",
   "pygments_lexer": "ipython3",
   "version": "3.7.5"
  }
 },
 "nbformat": 4,
 "nbformat_minor": 2
}
