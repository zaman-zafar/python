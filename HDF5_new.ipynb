{
 "cells": [
  {
   "cell_type": "code",
   "execution_count": 1,
   "metadata": {},
   "outputs": [],
   "source": [
    "import h5py as hd\n",
    "import pandas as pd\n",
    "import numpy as np"
   ]
  },
  {
   "cell_type": "code",
   "execution_count": 2,
   "metadata": {},
   "outputs": [],
   "source": [
    "filename = \"E:\\\\python folder\\\\hf5\\\\A.H5\""
   ]
  },
  {
   "cell_type": "markdown",
   "metadata": {},
   "source": [
    "# Creating random array\n"
   ]
  },
  {
   "cell_type": "code",
   "execution_count": 3,
   "metadata": {},
   "outputs": [],
   "source": [
    "array1 = np.random.random(size = (90,100))\n",
    "array2 = np.random.random(size = (20,50))\n"
   ]
  },
  {
   "cell_type": "markdown",
   "metadata": {},
   "source": [
    "# Codes to write data to HDF5 file"
   ]
  },
  {
   "cell_type": "code",
   "execution_count": 4,
   "metadata": {},
   "outputs": [],
   "source": [
    "with hd.File(filename , 'w') as data:\n",
    "    data.create_dataset( \"data1\" ,data = array1 )\n",
    "    data.create_dataset( \"data2\" ,data = array2 )\n",
    "    "
   ]
  },
  {
   "cell_type": "markdown",
   "metadata": {},
   "source": [
    "# To read HDF file"
   ]
  },
  {
   "cell_type": "code",
   "execution_count": 5,
   "metadata": {},
   "outputs": [],
   "source": [
    "b = hd.File(filename , \"r\")\n"
   ]
  },
  {
   "cell_type": "markdown",
   "metadata": {},
   "source": [
    "# To get the list of keys inside the HDF5 file"
   ]
  },
  {
   "cell_type": "code",
   "execution_count": 6,
   "metadata": {},
   "outputs": [
    {
     "data": {
      "text/plain": [
       "['data1', 'data2']"
      ]
     },
     "execution_count": 6,
     "metadata": {},
     "output_type": "execute_result"
    }
   ],
   "source": [
    "a = list(b.keys())\n",
    "a\n"
   ]
  },
  {
   "cell_type": "markdown",
   "metadata": {},
   "source": [
    "# To convert numpy array to Pandas DataFrame"
   ]
  },
  {
   "cell_type": "code",
   "execution_count": 7,
   "metadata": {
    "scrolled": true
   },
   "outputs": [
    {
     "name": "stdout",
     "output_type": "stream",
     "text": [
      "(20, 50)\n"
     ]
    },
    {
     "data": {
      "text/html": [
       "<div>\n",
       "<style scoped>\n",
       "    .dataframe tbody tr th:only-of-type {\n",
       "        vertical-align: middle;\n",
       "    }\n",
       "\n",
       "    .dataframe tbody tr th {\n",
       "        vertical-align: top;\n",
       "    }\n",
       "\n",
       "    .dataframe thead th {\n",
       "        text-align: right;\n",
       "    }\n",
       "</style>\n",
       "<table border=\"1\" class=\"dataframe\">\n",
       "  <thead>\n",
       "    <tr style=\"text-align: right;\">\n",
       "      <th></th>\n",
       "      <th>0</th>\n",
       "      <th>1</th>\n",
       "      <th>2</th>\n",
       "      <th>3</th>\n",
       "      <th>4</th>\n",
       "      <th>5</th>\n",
       "      <th>6</th>\n",
       "      <th>7</th>\n",
       "      <th>8</th>\n",
       "      <th>9</th>\n",
       "      <th>...</th>\n",
       "      <th>40</th>\n",
       "      <th>41</th>\n",
       "      <th>42</th>\n",
       "      <th>43</th>\n",
       "      <th>44</th>\n",
       "      <th>45</th>\n",
       "      <th>46</th>\n",
       "      <th>47</th>\n",
       "      <th>48</th>\n",
       "      <th>49</th>\n",
       "    </tr>\n",
       "  </thead>\n",
       "  <tbody>\n",
       "    <tr>\n",
       "      <th>11</th>\n",
       "      <td>0.390006</td>\n",
       "      <td>0.597011</td>\n",
       "      <td>0.545424</td>\n",
       "      <td>0.444779</td>\n",
       "      <td>0.881712</td>\n",
       "      <td>0.577452</td>\n",
       "      <td>0.422044</td>\n",
       "      <td>0.001455</td>\n",
       "      <td>0.803427</td>\n",
       "      <td>0.187111</td>\n",
       "      <td>...</td>\n",
       "      <td>0.025640</td>\n",
       "      <td>0.808242</td>\n",
       "      <td>0.204285</td>\n",
       "      <td>0.063011</td>\n",
       "      <td>0.715049</td>\n",
       "      <td>0.007230</td>\n",
       "      <td>0.061695</td>\n",
       "      <td>0.528889</td>\n",
       "      <td>0.459616</td>\n",
       "      <td>0.547010</td>\n",
       "    </tr>\n",
       "    <tr>\n",
       "      <th>4</th>\n",
       "      <td>0.424311</td>\n",
       "      <td>0.988633</td>\n",
       "      <td>0.681934</td>\n",
       "      <td>0.730147</td>\n",
       "      <td>0.254760</td>\n",
       "      <td>0.443450</td>\n",
       "      <td>0.420347</td>\n",
       "      <td>0.091770</td>\n",
       "      <td>0.337699</td>\n",
       "      <td>0.583868</td>\n",
       "      <td>...</td>\n",
       "      <td>0.888653</td>\n",
       "      <td>0.003202</td>\n",
       "      <td>0.898822</td>\n",
       "      <td>0.964073</td>\n",
       "      <td>0.419545</td>\n",
       "      <td>0.960062</td>\n",
       "      <td>0.473940</td>\n",
       "      <td>0.704868</td>\n",
       "      <td>0.626791</td>\n",
       "      <td>0.099955</td>\n",
       "    </tr>\n",
       "  </tbody>\n",
       "</table>\n",
       "<p>2 rows × 50 columns</p>\n",
       "</div>"
      ],
      "text/plain": [
       "          0         1         2         3         4         5         6   \\\n",
       "11  0.390006  0.597011  0.545424  0.444779  0.881712  0.577452  0.422044   \n",
       "4   0.424311  0.988633  0.681934  0.730147  0.254760  0.443450  0.420347   \n",
       "\n",
       "          7         8         9   ...        40        41        42        43  \\\n",
       "11  0.001455  0.803427  0.187111  ...  0.025640  0.808242  0.204285  0.063011   \n",
       "4   0.091770  0.337699  0.583868  ...  0.888653  0.003202  0.898822  0.964073   \n",
       "\n",
       "          44        45        46        47        48        49  \n",
       "11  0.715049  0.007230  0.061695  0.528889  0.459616  0.547010  \n",
       "4   0.419545  0.960062  0.473940  0.704868  0.626791  0.099955  \n",
       "\n",
       "[2 rows x 50 columns]"
      ]
     },
     "execution_count": 7,
     "metadata": {},
     "output_type": "execute_result"
    }
   ],
   "source": [
    "keydata = b.get('data2')\n",
    "nparr = np.array( keydata )\n",
    "df = pd.DataFrame(nparr )\n",
    "print(df.shape)\n",
    "df.sample(2 , replace = True)\n"
   ]
  },
  {
   "cell_type": "markdown",
   "metadata": {},
   "source": [
    "# To create groups and subgroups in HDF5"
   ]
  },
  {
   "cell_type": "code",
   "execution_count": 8,
   "metadata": {},
   "outputs": [],
   "source": [
    "filename2 = \"E:\\\\python folder\\\\hf5\\\\try.H5\"\n",
    "\n",
    "with hd.File(filename2 , \"w\") as f:\n",
    "    group1 = f.create_group(\"grp1/subgrp1\")\n",
    "    group1.create_dataset(\"data3\" , data = array2)\n",
    "    \n",
    "    group2 = f.create_group(\"grp1/subgrp2\")\n",
    "    group2.create_dataset(\"data4\" , data = array1)"
   ]
  },
  {
   "cell_type": "code",
   "execution_count": 9,
   "metadata": {},
   "outputs": [],
   "source": [
    "file2 = hd.File(filename2 , \"r\")\n"
   ]
  },
  {
   "cell_type": "code",
   "execution_count": 10,
   "metadata": {},
   "outputs": [
    {
     "data": {
      "text/plain": [
       "[('grp1', <HDF5 group \"/grp1\" (2 members)>)]"
      ]
     },
     "execution_count": 10,
     "metadata": {},
     "output_type": "execute_result"
    }
   ],
   "source": [
    "list2 = list(file2.items())\n",
    "list2\n"
   ]
  },
  {
   "cell_type": "markdown",
   "metadata": {},
   "source": [
    "# To access data in subgroups "
   ]
  },
  {
   "cell_type": "code",
   "execution_count": 11,
   "metadata": {},
   "outputs": [
    {
     "data": {
      "text/plain": [
       "[('data3', <HDF5 dataset \"data3\": shape (20, 50), type \"<f8\">)]"
      ]
     },
     "execution_count": 11,
     "metadata": {},
     "output_type": "execute_result"
    }
   ],
   "source": [
    "g1 = file2.get(\"/grp1/subgrp1\")\n",
    "listg1 = list(g1.items())\n",
    "listg1\n",
    "#d = list(c.items())\n",
    "#d"
   ]
  },
  {
   "cell_type": "code",
   "execution_count": 12,
   "metadata": {},
   "outputs": [
    {
     "data": {
      "text/plain": [
       "(20, 50)"
      ]
     },
     "execution_count": 12,
     "metadata": {},
     "output_type": "execute_result"
    }
   ],
   "source": [
    "nparr2 = np.array(g1.get(\"data3\"))\n",
    "nparr2.shape"
   ]
  },
  {
   "cell_type": "code",
   "execution_count": null,
   "metadata": {},
   "outputs": [],
   "source": []
  },
  {
   "cell_type": "code",
   "execution_count": null,
   "metadata": {},
   "outputs": [],
   "source": []
  }
 ],
 "metadata": {
  "kernelspec": {
   "display_name": "Python 3",
   "language": "python",
   "name": "python3"
  },
  "language_info": {
   "codemirror_mode": {
    "name": "ipython",
    "version": 3
   },
   "file_extension": ".py",
   "mimetype": "text/x-python",
   "name": "python",
   "nbconvert_exporter": "python",
   "pygments_lexer": "ipython3",
   "version": "3.7.5"
  }
 },
 "nbformat": 4,
 "nbformat_minor": 2
}
